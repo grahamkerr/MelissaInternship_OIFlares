{
 "cells": [
  {
   "cell_type": "markdown",
   "metadata": {},
   "source": [
    "### Graham Kerr\n",
    "#### graham.s.kerr@NASA.gov; kerrg@cua.edu\n",
    "\n",
    "<H1 font size=\"+3\" style=\"color:red\">\n",
    "O I in Flares<br>\n",
    "-- IRIS SG Basic Errors <br>\n",
    "</H1>\n",
    "\n",
    "<b>This notebook will</b>\n",
    "> - Read in pre-saved pickle files of SG data\n",
    "> - Calculate the photon counting and readout errors\n",
    "> - Plot some examples\n",
    "\n",
    "\n",
    "\n"
   ]
  },
  {
   "cell_type": "markdown",
   "metadata": {},
   "source": [
    "---\n",
    "### <b style=\"color:blue\"> Some set up </b>\n",
    "\n",
    "***Import Modules***\n",
    "\n",
    "> - Note that here I have called a module called 'utils' that contains a few functions that I have collected. The python session knows where they are held as I insert their location to the path. You will have to modify that line to point to where you put utils."
   ]
  },
  {
   "cell_type": "code",
   "execution_count": 1,
   "metadata": {},
   "outputs": [],
   "source": [
    "##\n",
    "## Import various modules -- can tidy up later\n",
    "##\n",
    "import numpy as np\n",
    "import matplotlib as mpl\n",
    "import matplotlib.pyplot as plt\n",
    "#%matplotlib tk\n",
    "import sys\n",
    "sys.path.insert(0,'/Users/gskerr1/Documents/Research/Melissa_OI_IRIS/MelissaInternship_OIFlares/')\n",
    "import utils\n",
    "import os\n",
    "import re\n",
    "from scipy import io\n",
    "import pickle\n",
    "import cmocean\n",
    "import copy\n",
    "import iris_lmsalpy\n",
    "# import astropy\n",
    "import pandas as pd\n",
    "# import hissw\n",
    "# from astropy.coordinates import SkyCoord\n",
    "# import astropy.units as u\n",
    "# from sunpy.coordinates import frames\n",
    "# import sunpy.map"
   ]
  },
  {
   "cell_type": "markdown",
   "metadata": {},
   "source": [
    "---\n",
    "### <b style=\"color:blue\"> Set up some plotting parameters </b>\n",
    "> - These are just my personal preferences for plot styles... you dont need to use them, or can change them my modifying the params in the function, or generally changing rcParams (check the matplotlib docs)"
   ]
  },
  {
   "cell_type": "code",
   "execution_count": 2,
   "metadata": {},
   "outputs": [],
   "source": [
    "plot_dict = utils.plotsetup(font_size = 22)\n",
    "plt.rcParams.update(plot_dict)"
   ]
  },
  {
   "cell_type": "markdown",
   "metadata": {},
   "source": [
    "---\n",
    "### <b style=\"color:blue\"> Load the data </b>\n"
   ]
  },
  {
   "cell_type": "code",
   "execution_count": 19,
   "metadata": {},
   "outputs": [],
   "source": [
    "dir1 = '/Users/gskerr1/Documents/Research/Melissa_OI_IRIS/2014_10_25_1500/'\n",
    "file_sg = dir1+'IRIS_SG_2014_Oct_25_mgiik_expcorr.pkl'\n",
    "with open(file_sg, 'rb') as output:  \n",
    "    sg_mgiik_dict = pickle.load(output)\n",
    "file_sg = dir1+'IRIS_SG_2014_Oct_25_oi_expcorr.pkl'\n",
    "with open(file_sg, 'rb') as output:  \n",
    "    sg_oi_dict = pickle.load(output)\n",
    "file_sg = dir1+'IRIS_SG_2014_Oct_25_oi_errs.pkl'\n",
    "with open(file_sg, 'rb') as output:  \n",
    "    sg_oi_dict_err = pickle.load(output)    \n",
    "exptimecorr = True"
   ]
  },
  {
   "cell_type": "code",
   "execution_count": 4,
   "metadata": {},
   "outputs": [
    {
     "data": {
      "text/plain": [
       "(2040, 1)"
      ]
     },
     "execution_count": 4,
     "metadata": {},
     "output_type": "execute_result"
    }
   ],
   "source": [
    "sg_mgiik_dict['hdr']['exptimen'].shape"
   ]
  },
  {
   "cell_type": "code",
   "execution_count": 5,
   "metadata": {},
   "outputs": [
    {
     "data": {
      "text/plain": [
       "(387, 2040, 1015, 1)"
      ]
     },
     "execution_count": 5,
     "metadata": {},
     "output_type": "execute_result"
    }
   ],
   "source": [
    "sg_mgiik_dict['data'].shape"
   ]
  },
  {
   "cell_type": "code",
   "execution_count": 6,
   "metadata": {},
   "outputs": [],
   "source": [
    "ny = (sg_mgiik_dict['data'].shape)[0]\n",
    "nexp = (sg_mgiik_dict['data'].shape)[1]\n",
    "nras = (sg_mgiik_dict['data'].shape)[3]\n",
    "\n",
    "nwvl_oi = (sg_oi_dict['data'].shape)[2]\n",
    "nwvl_mgiik = (sg_mgiik_dict['data'].shape)[2]"
   ]
  },
  {
   "cell_type": "code",
   "execution_count": 7,
   "metadata": {},
   "outputs": [],
   "source": [
    "data_mgiik = copy.deepcopy(sg_mgiik_dict['data'])\n",
    "data_oi = copy.deepcopy(sg_oi_dict['data'])\n",
    "\n",
    "index_mgiik = copy.deepcopy(sg_mgiik_dict['hdr'])\n",
    "index_oi = copy.deepcopy(sg_oi_dict['hdr'])"
   ]
  },
  {
   "cell_type": "markdown",
   "metadata": {},
   "source": [
    "---\n",
    "### <b style=\"color:blue\"> Calculate the errors </b>\n"
   ]
  },
  {
   "cell_type": "markdown",
   "metadata": {},
   "source": [
    "***Convert back to DN/px***"
   ]
  },
  {
   "cell_type": "code",
   "execution_count": 8,
   "metadata": {},
   "outputs": [
    {
     "name": "stderr",
     "output_type": "stream",
     "text": [
      "<ipython-input-8-fd00c959b5a7>:4: RuntimeWarning: invalid value encountered in multiply\n",
      "  data_mgiik[:,eind,:,rind]*=index_mgiik['exptimen'][eind,rind]\n",
      "<ipython-input-8-fd00c959b5a7>:5: RuntimeWarning: invalid value encountered in multiply\n",
      "  data_oi[:,eind,:,rind]*=index_oi['exptimef'][eind,rind]\n"
     ]
    }
   ],
   "source": [
    "if exptimecorr == True:\n",
    "    for eind in range(nexp):\n",
    "        for rind in range(nras):\n",
    "            data_mgiik[:,eind,:,rind]*=index_mgiik['exptimen'][eind,rind]\n",
    "            data_oi[:,eind,:,rind]*=index_oi['exptimef'][eind,rind]"
   ]
  },
  {
   "cell_type": "markdown",
   "metadata": {},
   "source": [
    "***Find the errors***"
   ]
  },
  {
   "cell_type": "code",
   "execution_count": 9,
   "metadata": {},
   "outputs": [],
   "source": [
    "err_dn_mgiik = np.zeros([ny,nexp,nwvl_mgiik,nras],dtype=np.float64)\n",
    "err_dn_s_mgiik = np.zeros([ny,nexp,nwvl_mgiik,nras],dtype=np.float64)\n",
    "\n",
    "err_dn_oi = np.zeros([ny,nexp,nwvl_oi,nras],dtype=np.float64)\n",
    "err_dn_s_oi = np.zeros([ny,nexp,nwvl_oi,nras],dtype=np.float64)\n",
    "\n",
    "for i in range(nras):\n",
    "    tmp1_oi, tmp2_oi = utils.IRIS_SG_BasicErrors(data_oi[:,:,:,i], \n",
    "                                                     wreg = 'FUV', \n",
    "                                                     exptime=index_oi['exptimef'][:,i], \n",
    "                                                     verbose = False, sitnstare=True)\n",
    "    err_dn_oi[:,:,:,i] = tmp1_oi\n",
    "    err_dn_s_oi[:,:,:,i] = tmp2_oi\n",
    "\n",
    "    tmp1_mgiik, tmp2_mgiik = utils.IRIS_SG_BasicErrors(data_mgiik[:,:,:,i], \n",
    "                                                           wreg = 'NUV', \n",
    "                                                           exptime=index_mgiik['exptimen'][:,i], \n",
    "                                                           verbose = False,sitnstare=True)\n",
    "    err_dn_mgiik[:,:,:,i] = tmp1_mgiik\n",
    "    err_dn_s_mgiik[:,:,:,i] = tmp2_mgiik"
   ]
  },
  {
   "cell_type": "markdown",
   "metadata": {},
   "source": [
    "***Save the errors***"
   ]
  },
  {
   "cell_type": "code",
   "execution_count": null,
   "metadata": {},
   "outputs": [],
   "source": [
    "dirout = '/Users/gskerr1/Documents/Research/Melissa_OI_IRIS/MelissaInternship_OIFlares/'\n",
    "\n",
    "err_dict_oi = {\n",
    "            'err_dn':err_dn_oi,\n",
    "            'err_dn_s':err_dn_s_oi,\n",
    "            'index':index_oi}\n",
    "file_errs = dirout+'IRIS_SJI_2014_Oct_25_oi_errors.pkl'\n",
    "with open(file_errs, 'wb') as output:  # Overwrites any existing file.\n",
    "    pickle.dump(err_dict_oi, output, pickle.HIGHEST_PROTOCOL)\n",
    "\n",
    "err_dict_mgiik = {\n",
    "            'err_dn':err_dn_mgiik,\n",
    "            'err_dn_s':err_dn_s_mgiik,\n",
    "            'index':index_mgiik}\n",
    "file_errs = dirout+'IRIS_SJI_2014_Oct_25_mgiik_errors.pkl'\n",
    "with open(file_errs, 'wb') as output:  # Overwrites any existing file.\n",
    "    pickle.dump(err_dict_mgiik, output, pickle.HIGHEST_PROTOCOL)"
   ]
  },
  {
   "cell_type": "code",
   "execution_count": 43,
   "metadata": {},
   "outputs": [
    {
     "data": {
      "image/png": "[encoded data removed]",
      "text/plain": [
       "<Figure size 576x288 with 1 Axes>"
      ]
     },
     "metadata": {
      "needs_background": "light"
     },
     "output_type": "display_data"
    }
   ],
   "source": [
    "savepng = False\n",
    "\n",
    "dirout = './'\n",
    "fname_out = 'IRISSG_OI_CI_errs_2014_Oct_25_TEST'\n",
    "\n",
    "sind = 0\n",
    "yind = 210\n",
    "# data = copy.deepcopy(sg_oi_dict['data'])\n",
    "\n",
    "t1 = 1000\n",
    "t2 = nexp\n",
    "\n",
    "xrange = [1355.3,1356.5]\n",
    "yrange = [-10, 100]\n",
    "\n",
    "xsize = 8\n",
    "ysize = 4\n",
    "\n",
    "dx = 0.75\n",
    "dy = 0.75\n",
    "y1 = 0.05\n",
    "x1 = 0.05\n",
    "sx = 0.05\n",
    "sy = 0.25\n",
    "\n",
    "counter = 0\n",
    "# for tind in range(t1,t2):\n",
    "for tind in range(1369,1370):\n",
    "    \n",
    "    fig = plt.figure(figsize=(xsize, ysize))\n",
    "    ax1 = fig.add_axes([x1, y1+0*sy+0*dy, dx, dy])\n",
    "\n",
    "    ax1.set_xlim(xrange[0], xrange[-1])\n",
    "    ax1.set_ylim(yrange[0], yrange[-1])\n",
    "\n",
    "    ax1.set_xlabel('Wavelength [$\\mathrm{\\AA}$]')\n",
    "    ax1.set_ylabel('Intensity [DN s$^{-1}$ px$^{-1}$]')\n",
    "    ax1.xaxis.set_tick_params(rotation=20)\n",
    "    ax1.tick_params(which='both', direction='inout')\n",
    "    \n",
    "    \n",
    "#     ax1.errorbar(sg_oi_dict['wl'][:,sind], \n",
    "#              sg_oi_dict['data'][yind,tind,:,sind],\n",
    "#              xerr = 0.0, yerr = sg_oi_dict_err['err_dn_s'][yind,eind,:,sind],\n",
    "#              color = 'black',\n",
    "#              drawstyle = 'steps-mid',\n",
    "#              ecolor = 'blue',\n",
    "#              elinewidth = 2, \n",
    "#              capsize = 0, capthick = 0, \n",
    "#              errorevery = 1,\n",
    "#              linewidth = 1)\n",
    "    \n",
    "    ax1.errorbar(sg_oi_dict['wl'][:,sind], \n",
    "             sg_oi_dict['data'][yind,tind,:,sind],\n",
    "             xerr = 0.0, yerr = err_dn_s_oi[yind,eind,:,sind],\n",
    "             color = 'black',\n",
    "             drawstyle = 'steps-mid',\n",
    "             ecolor = 'tomato',\n",
    "             elinewidth = 2, \n",
    "             capsize = 0, capthick = 0, \n",
    "             errorevery = 1,\n",
    "             linewidth = 2)\n",
    "    \n",
    "    ax1.plot(sg_oi_dict['wl'][:,sind], \n",
    "             sg_oi_dict['data'][yind,0,:,sind],\n",
    "             color = 'grey',\n",
    "             drawstyle = 'steps-mid',\n",
    "             linewidth = 1)\n",
    "    \n",
    "    ax1.set_title('IRIS/SG O I\\n'+sg_oi_dict['hdr']['dateobs'][tind,sind]+\n",
    "                  'UT\\n[%0.2f$^{\\prime\\prime}$,%0.2f$^{\\prime\\prime}$]' \n",
    "                  %(sg_oi_dict['slitposx'][tind],sg_oi_dict['slitposy'][yind,tind] ))\n",
    "    \n",
    "    if savepng == True:\n",
    "        plt.savefig(fname_out+'_%04d.png' %(counter), format='png', bbox_inches = 'tight', dpi=300)\n",
    "    \n",
    "    counter+= 1\n",
    "\n",
    "    plt.show()"
   ]
  },
  {
   "cell_type": "code",
   "execution_count": 66,
   "metadata": {},
   "outputs": [
    {
     "data": {
      "image/png": "[encoded data removed]",
      "text/plain": [
       "<Figure size 720x576 with 2 Axes>"
      ]
     },
     "metadata": {
      "needs_background": "light"
     },
     "output_type": "display_data"
    }
   ],
   "source": [
    "savepng = False\n",
    "\n",
    "dirout = './'\n",
    "fname_out = 'IRISSG_OI_CI_relerrs_2014_Oct_25_TEST'\n",
    "\n",
    "sind = 0\n",
    "yind = 210\n",
    "# data = copy.deepcopy(sg_oi_dict['data'])\n",
    "\n",
    "t1 = 1000\n",
    "t2 = nexp\n",
    "\n",
    "xrange = [1355.30,1356.5]\n",
    "yrange = [-10, 100]\n",
    "yrange_rel = [-5, 200]\n",
    "\n",
    "\n",
    "xsize = 10\n",
    "ysize = 8\n",
    "\n",
    "dx = 0.75\n",
    "dy = 0.40\n",
    "y1 = 0.05\n",
    "x1 = 0.05\n",
    "sx = 0.05\n",
    "sy = 0.10\n",
    "\n",
    "counter = 0\n",
    "# for tind in range(t1,t2):\n",
    "for tind in range(1369,1370):\n",
    "    \n",
    "    fig = plt.figure(figsize=(xsize, ysize))\n",
    "    ax1 = fig.add_axes([x1, y1+1*sy+1*dy, dx, dy])\n",
    "    ax2 = fig.add_axes([x1, y1+0*sy+0*dy, dx, dy])\n",
    "\n",
    "    ax1.set_xlim(xrange[0], xrange[-1])\n",
    "    ax1.set_ylim(yrange[0], yrange[-1])\n",
    "    ax2.set_xlim(xrange[0], xrange[-1])\n",
    "    ax2.set_ylim(yrange_rel[0], yrange_rel[-1])\n",
    "\n",
    "#     ax1.set_xlabel('Wavelength [$\\mathrm{\\AA}$]')\n",
    "    ax1.set_ylabel('Intensity [DN s$^{-1}$ px$^{-1}$]')\n",
    "    ax1.xaxis.set_tick_params(rotation=20)\n",
    "    ax1.tick_params(which='both', direction='inout')\n",
    "    \n",
    "    ax2.set_xlabel('Wavelength [$\\mathrm{\\AA}$]')\n",
    "    ax2.set_ylabel('Rel. Error [%]')\n",
    "    ax2.xaxis.set_tick_params(rotation=20)\n",
    "    ax2.tick_params(which='both', direction='inout')\n",
    "    \n",
    "    \n",
    "    ax1.errorbar(sg_oi_dict['wl'][:,sind], \n",
    "             sg_oi_dict['data'][yind,tind,:,sind],\n",
    "             xerr = 0.0, yerr = err_dn_s_oi[yind,eind,:,sind],\n",
    "             color = 'black',\n",
    "             drawstyle = 'steps-mid',\n",
    "             ecolor = 'tomato',\n",
    "             elinewidth = 2, \n",
    "             capsize = 0, capthick = 0, \n",
    "             errorevery = 1,\n",
    "             linewidth = 2)\n",
    "    \n",
    "    ax1.plot(sg_oi_dict['wl'][:,sind], \n",
    "             sg_oi_dict['data'][yind,0,:,sind],\n",
    "             color = 'grey',\n",
    "             drawstyle = 'steps-mid',\n",
    "             linewidth = 1)\n",
    "    \n",
    "    ax2.plot(sg_oi_dict['wl'][:,sind], \n",
    "             err_dn_s_oi[yind,eind,:,sind]/np.abs(sg_oi_dict['data'][yind,tind,:,sind])*100,\n",
    "             color = 'tomato',\n",
    "             drawstyle = 'steps-mid',\n",
    "             linewidth = 2)\n",
    "    \n",
    "    ax1.set_title('IRIS/SG O I\\n'+sg_oi_dict['hdr']['dateobs'][tind,sind]+\n",
    "                  'UT\\n[%0.2f$^{\\prime\\prime}$,%0.2f$^{\\prime\\prime}$]' \n",
    "                  %(sg_oi_dict['slitposx'][tind],sg_oi_dict['slitposy'][yind,tind] ))\n",
    "    \n",
    "    ax1.spines[\"left\"].set_position((\"axes\",-0.05))\n",
    "    ax1.spines[\"bottom\"].set_position((\"axes\",-.075))\n",
    "    ax2.spines[\"left\"].set_position((\"axes\",-0.05))\n",
    "    ax2.spines[\"bottom\"].set_position((\"axes\",-.075))\n",
    "    \n",
    "    wind1 = np.abs(sg_oi_dict['wl'][:,sind] - 1355.55).argmin()\n",
    "    wind2 = np.abs(sg_oi_dict['wl'][:,sind] - 1355.65).argmin()\n",
    "    ax1.fill_between(sg_oi_dict['wl'][wind1:wind2+1,sind], yrange[0], yrange[-1], color = 'dodgerblue', alpha = 0.125)\n",
    "    ax2.fill_between(sg_oi_dict['wl'][wind1:wind2+1,sind], yrange_rel[0], yrange_rel[-1], color = 'dodgerblue', alpha = 0.125)\n",
    "\n",
    "\n",
    "    if savepng == True:\n",
    "        plt.savefig(fname_out+'_%04d.png' %(counter), format='png', bbox_inches = 'tight', dpi=300)\n",
    "    \n",
    "    counter+= 1\n",
    "\n",
    "    plt.show()"
   ]
  },
  {
   "cell_type": "code",
   "execution_count": 20,
   "metadata": {},
   "outputs": [
    {
     "data": {
      "text/plain": [
       "dict_keys(['err_dn', 'err_dn_s', 'index'])"
      ]
     },
     "execution_count": 20,
     "metadata": {},
     "output_type": "execute_result"
    }
   ],
   "source": [
    "sg_oi_dict_err.keys()"
   ]
  },
  {
   "cell_type": "code",
   "execution_count": 30,
   "metadata": {},
   "outputs": [
    {
     "data": {
      "text/plain": [
       "(387, 2040)"
      ]
     },
     "execution_count": 30,
     "metadata": {},
     "output_type": "execute_result"
    }
   ],
   "source": [
    "sg_oi_dict['slitposy'].shape"
   ]
  },
  {
   "cell_type": "code",
   "execution_count": null,
   "metadata": {},
   "outputs": [],
   "source": []
  }
 ],
 "metadata": {
  "kernelspec": {
   "display_name": "py38_solar_sunpy",
   "language": "python",
   "name": "py38_solar_sunpy"
  },
  "language_info": {
   "codemirror_mode": {
    "name": "ipython",
    "version": 3
   },
   "file_extension": ".py",
   "mimetype": "text/x-python",
   "name": "python",
   "nbconvert_exporter": "python",
   "pygments_lexer": "ipython3",
   "version": "3.8.5"
  }
 },
 "nbformat": 4,
 "nbformat_minor": 4
}
