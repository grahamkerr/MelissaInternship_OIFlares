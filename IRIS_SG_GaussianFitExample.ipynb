{
 "cells": [
  {
   "cell_type": "markdown",
   "metadata": {},
   "source": [
    "### Graham Kerr\n",
    "#### graham.s.kerr@NASA.gov; kerrg@cua.edu\n",
    "\n",
    "<H1 font size=\"+3\" style=\"color:red\">\n",
    "O I in Flares<br>\n",
    "-- IRIS SG Gaussian Fitting <br>\n",
    "</H1>\n",
    "\n",
    "<b>This notebook will</b>\n",
    "> - Read in pre-saved pickle files of SG data\n",
    "> - Attempt to fit Gaussians to the data\n",
    "> - The Gaussian function to be fit is defined within this notebook, but can be moved externally later.\n",
    "\n",
    "\n",
    "\n"
   ]
  },
  {
   "cell_type": "markdown",
   "metadata": {},
   "source": [
    "---\n",
    "### <b style=\"color:blue\"> Some set up </b>\n",
    "\n",
    "***Import Modules***\n",
    "\n",
    "> - Note that here I have called a module called 'utils' that contains a few functions that I have collected. The python session knows where they are held as I insert their location to the path. You will have to modify that line to point to where you put utils."
   ]
  },
  {
   "cell_type": "code",
   "execution_count": null,
   "metadata": {},
   "outputs": [],
   "source": [
    "##\n",
    "## Import various modules -- can tidy up later\n",
    "##\n",
    "import numpy as np\n",
    "import matplotlib as mpl\n",
    "import matplotlib.pyplot as plt\n",
    "#%matplotlib tk\n",
    "import sys\n",
    "sys.path.insert(0,'/Users/gskerr1/Documents/Research/Melissa_OI_IRIS/MelissaInternship_OIFlares/')\n",
    "import utils\n",
    "import os\n",
    "import re\n",
    "from scipy import io\n",
    "import pickle\n",
    "import cmocean\n",
    "import copy\n",
    "import iris_lmsalpy\n",
    "import pandas as pd\n",
    "from scipy.optimize import curve_fit"
   ]
  },
  {
   "cell_type": "markdown",
   "metadata": {},
   "source": [
    "---\n",
    "### <b style=\"color:blue\"> Set up some plotting parameters </b>\n",
    "> - These are just my personal preferences for plot styles... you dont need to use them, or can change them my modifying the params in the function, or generally changing rcParams (check the matplotlib docs)"
   ]
  },
  {
   "cell_type": "code",
   "execution_count": null,
   "metadata": {},
   "outputs": [],
   "source": [
    "plot_dict = utils.plotsetup(font_size = 22)\n",
    "plt.rcParams.update(plot_dict)"
   ]
  },
  {
   "cell_type": "markdown",
   "metadata": {},
   "source": [
    "---\n",
    "### <b style=\"color:blue\"> Load the data </b>\n",
    "> - The exposure time corrected intensities\n",
    "> - The associated errors"
   ]
  },
  {
   "cell_type": "code",
   "execution_count": null,
   "metadata": {},
   "outputs": [],
   "source": [
    "dir1 = '/Users/gskerr1/Documents/Research/Melissa_OI_IRIS/2014_10_25_1500/'\n",
    "file_sg = dir1+'IRIS_SG_2014_Oct_25_oi_expcorr.pkl'\n",
    "with open(file_sg, 'rb') as output:  \n",
    "    sg_oi_dict = pickle.load(output)\n",
    "file_sg = dir1+'IRIS_SG_2014_Oct_25_oi_errs.pkl'\n",
    "with open(file_sg, 'rb') as output:  \n",
    "    sg_oi_dict_err = pickle.load(output)    \n",
    "# exptimecorr = True"
   ]
  },
  {
   "cell_type": "markdown",
   "metadata": {},
   "source": [
    "***Set some variables***\n"
   ]
  },
  {
   "cell_type": "code",
   "execution_count": null,
   "metadata": {},
   "outputs": [],
   "source": [
    "rest_wave = 1355.558\n",
    "SIG2FWHM = 2e0*np.sqrt(2e0*np.log(2e0)) \n",
    "widthguess = 0.25"
   ]
  },
  {
   "cell_type": "markdown",
   "metadata": {},
   "source": [
    "---\n",
    "### <b style=\"color:blue\"> Define the Gaussian function that we want to fit </b>\n",
    "> - Lets keep things simple for now and assume a single component Gaussian.\n",
    "> - We will allow a continuum level, but for now without a linearly varying component (i.e. a flat continuum).\n",
    "> - Note the * placed before the variable is passed. This allows you to pass a variable p that contains any number of elements (it is not pre-defined). Once inside the function this variable behaves like a tuple. This isn't *really* required, and we could probably write it such that each element is passed seperately. However, passing with *p is useful for more complicated functions (such as multi-component Gaussians), and it keeps things tidy.\n"
   ]
  },
  {
   "cell_type": "code",
   "execution_count": null,
   "metadata": {},
   "outputs": [],
   "source": [
    "def gaussian_model(x, *p):\n",
    "    '''\n",
    "    PURPOSE: To model a Gaussian as a function of X\n",
    "    \n",
    "    INPUTS:  p -- tuple\n",
    "                  p[0] is the amplitude of the Gaussian\n",
    "                  p[1] is the centroid of the Gaussian\n",
    "                  p[2] is the sigma (standard deviation) of the Gaussian \n",
    "                  p[3] is some offset on the y-axis (i.e. the continuum level)\n",
    "    \n",
    "    OUTPUTS: y -- float array\n",
    "                  The y-axis value associated with each input x-axis value x\n",
    "    \n",
    "    \n",
    "    '''   \n",
    "\n",
    "    ## Define the offset of the Gaussian\n",
    "    offset = p[3]\n",
    "    \n",
    "    ## Assign the amplitude A, centroid mu, and standard deviation sigma\n",
    "    A, mu, sigma = p[0:3]\n",
    "    \n",
    "    ## The Gaussian model\n",
    "    y = A * np.exp(-(x-mu)**2/(2.0*sigma**2))\n",
    "    \n",
    "    # the full result is the Gaussian + the background\n",
    "    \n",
    "    return y + offset"
   ]
  },
  {
   "cell_type": "markdown",
   "metadata": {},
   "source": [
    "***Test of the function***\n",
    "> - Make up some parameters.\n",
    "> - Run the function.\n",
    "> - Plot the output."
   ]
  },
  {
   "cell_type": "code",
   "execution_count": null,
   "metadata": {},
   "outputs": [],
   "source": [
    "pars = tuple(([100, rest_wave, 0.05, 10]))\n",
    "test = gaussian_model(sg_oi_dict['wl'][:,0], *pars)"
   ]
  },
  {
   "cell_type": "code",
   "execution_count": null,
   "metadata": {},
   "outputs": [],
   "source": [
    "plt.plot(sg_oi_dict['wl'][:,0], test)\n",
    "plt.tick_params(axis='x', labelrotation = 30)\n",
    "plt.show()\n",
    "plt.plot(sg_oi_dict['wl'][:,0], test, drawstyle ='steps-mid')\n",
    "plt.xlim([1355, 1356])\n",
    "plt.tick_params(axis='x', labelrotation = 30)\n",
    "plt.show()"
   ]
  },
  {
   "cell_type": "markdown",
   "metadata": {},
   "source": [
    "> - Now, lets try to fit the output to recover the input"
   ]
  },
  {
   "cell_type": "code",
   "execution_count": null,
   "metadata": {},
   "outputs": [],
   "source": [
    "param, cov= curve_fit(gaussian_model, sg_oi_dict['wl'][:,0], test)"
   ]
  },
  {
   "cell_type": "markdown",
   "metadata": {},
   "source": [
    "> - That didn't work. The error message tells us that it is due to curve_fit not being able to determine the number of parameters. If you recall, earlier we pass *p to our Gaussian function, meaning it can accept any number of variables. So, curve_fit needs to know how many we are actually wanting to search for. \n",
    "> - We can do this by passing a guess to curve_fit"
   ]
  },
  {
   "cell_type": "code",
   "execution_count": null,
   "metadata": {},
   "outputs": [],
   "source": [
    "guess = (75, 1355.2, 0.2, 10)\n",
    "param, cov= curve_fit(gaussian_model, sg_oi_dict['wl'][:,0], test, p0 = guess)"
   ]
  },
  {
   "cell_type": "markdown",
   "metadata": {},
   "source": [
    "> - You can see that the fit is not good"
   ]
  },
  {
   "cell_type": "code",
   "execution_count": null,
   "metadata": {},
   "outputs": [],
   "source": [
    "print(param)\n",
    "### Lets set a new wavelength array that oversamples our line so we get a smooth \n",
    "### curve based on the fit results\n",
    "wavel = np.arange(1340, 1357, 0.01)\n",
    "plt.plot(wavel, gaussian_model(wavel, *param), drawstyle ='steps-mid')\n",
    "plt.plot(sg_oi_dict['wl'][:,0], test, color = 'black', drawstyle ='steps-mid')\n",
    "# plt.xlim([1355, 1356])\n",
    "plt.tick_params(axis='x', labelrotation = 30)\n",
    "plt.show()"
   ]
  },
  {
   "cell_type": "markdown",
   "metadata": {},
   "source": [
    "> - If we set the initial guess of the centroid to be closer to the actual value what happens?"
   ]
  },
  {
   "cell_type": "code",
   "execution_count": null,
   "metadata": {},
   "outputs": [],
   "source": [
    "guess = (75, 1355.6, 0.2, 5)\n",
    "param, cov= curve_fit(gaussian_model, sg_oi_dict['wl'][:,0], test, p0 = guess)"
   ]
  },
  {
   "cell_type": "code",
   "execution_count": null,
   "metadata": {},
   "outputs": [],
   "source": [
    "print(param)\n",
    "### Lets set a new wavelength array that oversamples our line so we get a smooth \n",
    "### curve based on the fit results\n",
    "wavel = np.arange(1354, 1357, 0.001)\n",
    "plt.plot(sg_oi_dict['wl'][:,0], test, color = 'black', drawstyle = 'steps-mid', linewidth = 1)\n",
    "plt.plot(wavel, gaussian_model(wavel, *param), \n",
    "         drawstyle ='steps-mid', color = 'tomato',\n",
    "         linewidth = 3)\n",
    "plt.xlim([1355, 1356])\n",
    "plt.tick_params(axis='x', labelrotation = 30)\n",
    "plt.show()"
   ]
  },
  {
   "cell_type": "markdown",
   "metadata": {},
   "source": [
    "> - What if we use the original guess, but constrain the fit range to be closer to our area of interest?"
   ]
  },
  {
   "cell_type": "code",
   "execution_count": null,
   "metadata": {},
   "outputs": [],
   "source": [
    "guess = (75, 1355.2, 0.1, 10)\n",
    "wind1 = np.abs(sg_oi_dict['wl'][:,0] - 1355).argmin()\n",
    "wind2 = np.abs(sg_oi_dict['wl'][:,0] - 1356).argmin()\n",
    "plt.plot(sg_oi_dict['wl'][wind1:wind2,0], \n",
    "         test[wind1:wind2], \n",
    "         color = 'black', drawstyle = 'steps-mid', linewidth = 1)\n",
    "param, cov= curve_fit(gaussian_model, \n",
    "                      sg_oi_dict['wl'][wind1:wind2,0], \n",
    "                      test[wind1:wind2], \n",
    "                      p0 = guess,\n",
    "                      maxfev=100000,\n",
    "                      xtol = 1.0e-5, ftol = 1.0e-5)\n",
    "\n",
    "print(param)\n",
    "\n",
    "wavel = np.arange(1354, 1357, 0.001)\n",
    "plt.plot(wavel, gaussian_model(wavel, *param), \n",
    "         drawstyle ='steps-mid', color = 'tomato', \n",
    "         linewidth = 3)\n",
    "plt.xlim([1355, 1356])\n",
    "plt.tick_params(axis='x', labelrotation = 30)\n",
    "plt.show()"
   ]
  },
  {
   "cell_type": "markdown",
   "metadata": {},
   "source": [
    "> - Hmm, still not working! To be honest I am quite surprised it is not working. \n",
    "> - Lets try setting bounds on the model fits"
   ]
  },
  {
   "cell_type": "code",
   "execution_count": null,
   "metadata": {},
   "outputs": [],
   "source": [
    "guess = (20, 1355.3, 0.05, 10)\n",
    "bounds = ((1, 1355, 0.01, 0), (1000, 1357, 1, 50))\n",
    "wind1 = np.abs(sg_oi_dict['wl'][:,0] - 1355).argmin()\n",
    "wind2 = np.abs(sg_oi_dict['wl'][:,0] - 1356).argmin()\n",
    "plt.plot(sg_oi_dict['wl'][wind1:wind2,0], \n",
    "         test[wind1:wind2], \n",
    "         color = 'black', drawstyle = 'steps-mid', linewidth = 1)\n",
    "param, cov= curve_fit(gaussian_model, \n",
    "                      sg_oi_dict['wl'][wind1:wind2,0], \n",
    "                      test[wind1:wind2], \n",
    "                      p0 = guess,\n",
    "                      bounds = bounds,\n",
    "                      sigma = None,\n",
    "                      absolute_sigma = True,\n",
    "                      maxfev=10000,\n",
    "                      xtol = 1.0e-5, ftol = 1.0e-5)\n",
    "print(param)\n",
    "wavel = np.arange(sg_oi_dict['wl'][wind1,0], sg_oi_dict['wl'][wind2,0], 0.001)\n",
    "plt.plot(wavel, gaussian_model(wavel, *param), \n",
    "         drawstyle ='steps-mid', color = 'tomato', \n",
    "         linewidth = 3)\n",
    "# plt.xlim([1355, 1356])\n",
    "plt.tick_params(axis='x', labelrotation = 30)\n",
    "plt.show()"
   ]
  },
  {
   "cell_type": "markdown",
   "metadata": {},
   "source": [
    "***Lets get careful with the guess and bounds***\n",
    "> - Here we are setting the guess to be close to the data:<br>\n",
    "    1) the amplitude is the peak - average of the two values at the edge of the window. This is a decent approximation to the amplitude = peak - continuum;<br>\n",
    "    2) the centroid is set to the rest wavelength;<br>\n",
    "    3) the width is set to the guess of 0.025A converted to standard deviation (the angstoms come in as X is in angstroms);<br>\n",
    "    4) the continuum level is the mean of the values either side of the window.\n",
    "> - Here we are setting the bounds to be:<br>\n",
    "    1) the amplitude is allowed to range 0 to infinite;<br>\n",
    "    2) the centroid is allowed to range rest_wave +/- 1 Angstrom;<br>\n",
    "    3) the width is allowed to vary 5 times from the initial guess;<br>\n",
    "    4) the continuum level is allowed to vary 0 to infinte.\n",
    "> - Try changing the rest wavelength value to see what happens"
   ]
  },
  {
   "cell_type": "code",
   "execution_count": null,
   "metadata": {},
   "outputs": [],
   "source": [
    "wind1 = np.abs(sg_oi_dict['wl'][:,0] - 1354).argmin()\n",
    "wind2 = np.abs(sg_oi_dict['wl'][:,0] - 1357).argmin()\n",
    "\n",
    "guess = (np.max(test[wind1:wind2]) - np.mean([test[wind1],test[wind2]]), \n",
    "         rest_wave+0.25, \n",
    "         widthguess/SIG2FWHM, \n",
    "         np.mean([test[wind1], test[wind2]]))\n",
    "bounds = ( (0,      rest_wave-1, 0.0, 0) , \n",
    "           (np.inf, rest_wave+1, widthguess/SIG2FWHM*500, np.inf) )\n",
    "\n",
    "plt.plot(sg_oi_dict['wl'][wind1:wind2,0], \n",
    "         test[wind1:wind2], \n",
    "         color = 'black', drawstyle = 'steps-mid', linewidth = 1)\n",
    "\n",
    "param, cov= curve_fit(gaussian_model, \n",
    "                      sg_oi_dict['wl'][wind1:wind2,0], \n",
    "                      test[wind1:wind2], \n",
    "                      p0 = guess,\n",
    "                      bounds = bounds,\n",
    "                      sigma = np.sqrt(test[wind1:wind2]),\n",
    "                      absolute_sigma = True,\n",
    "                      maxfev=10000,\n",
    "                      xtol = 1.0e-5, ftol = 1.0e-5)\n",
    "\n",
    "print(param)\n",
    "wavel = np.arange(sg_oi_dict['wl'][wind1,0], sg_oi_dict['wl'][wind2,0], 0.001)\n",
    "plt.plot(wavel, gaussian_model(wavel, *param), \n",
    "         drawstyle ='steps-mid', color = 'tomato', \n",
    "         linewidth = 3)\n",
    "# plt.xlim([1355, 1356])\n",
    "plt.tick_params(axis='x', labelrotation = 30)\n",
    "plt.show()"
   ]
  },
  {
   "cell_type": "markdown",
   "metadata": {},
   "source": [
    "> - It is very temperamental with your choice of guess and bounds!\n",
    "> - Here it isn't working probably because it is trying to fit the far wings of the continuum of our fake data.\n",
    "> - Lets reduce the allowed range to be more focussed around our line."
   ]
  },
  {
   "cell_type": "code",
   "execution_count": null,
   "metadata": {},
   "outputs": [],
   "source": [
    "wind1 = np.abs(sg_oi_dict['wl'][:,0] - 1355.3).argmin()\n",
    "wind2 = np.abs(sg_oi_dict['wl'][:,0] - 1355.8).argmin()\n",
    "\n",
    "guess = (np.max(test[wind1:wind2]) - np.mean([test[wind1],test[wind2]]), \n",
    "         rest_wave+0.125, \n",
    "         widthguess/SIG2FWHM, \n",
    "         np.mean([test[wind1], test[wind2]]))\n",
    "bounds = ( (0,      rest_wave-0.5, 0.0, 0) , \n",
    "           (1000, rest_wave+0.5, widthguess/SIG2FWHM*50, 1000) )\n",
    "\n",
    "plt.plot(sg_oi_dict['wl'][wind1:wind2,0], \n",
    "         test[wind1:wind2], \n",
    "         color = 'black', drawstyle = 'steps-mid', linewidth = 1)\n",
    "\n",
    "param, cov= curve_fit(gaussian_model, \n",
    "                      sg_oi_dict['wl'][wind1:wind2,0], \n",
    "                      test[wind1:wind2], \n",
    "                      p0 = guess,\n",
    "                      bounds = bounds,\n",
    "                      sigma = np.sqrt(test[wind1:wind2]),\n",
    "                      absolute_sigma = True,\n",
    "                      maxfev=10000,\n",
    "                      xtol = 1.0e-5, ftol = 1.0e-5)\n",
    "\n",
    "print(param)\n",
    "wavel = np.arange(sg_oi_dict['wl'][wind1,0], sg_oi_dict['wl'][wind2,0], 0.001)\n",
    "plt.plot(wavel, gaussian_model(wavel, *param), \n",
    "         drawstyle ='steps-mid', color = 'tomato', \n",
    "         linewidth = 3)\n",
    "# plt.xlim([1355, 1356])\n",
    "plt.tick_params(axis='x', labelrotation = 30)\n",
    "plt.show()"
   ]
  },
  {
   "cell_type": "markdown",
   "metadata": {},
   "source": [
    "---\n",
    "### <b style=\"color:blue\"> Now lets try with actual data </b>\n"
   ]
  },
  {
   "cell_type": "code",
   "execution_count": null,
   "metadata": {},
   "outputs": [],
   "source": [
    "### Choose some data\n",
    "wind1 = np.abs(sg_oi_dict['wl'][:,0] - 1355).argmin()\n",
    "wind2 = np.abs(sg_oi_dict['wl'][:,0] - 1357).argmin()\n",
    "\n",
    "data = copy.deepcopy(sg_oi_dict['data'][210,1369,wind1:wind2,0])\n",
    "err = copy.deepcopy(sg_oi_dict_err['err_dn_s'][210,1369,wind1:wind2,0])\n",
    "lamb = copy.deepcopy(sg_oi_dict['wl'][wind1:wind2,0])\n",
    "\n",
    "\n",
    "guess = (np.max(data) - np.mean([data[0],data[-1]]), \n",
    "         rest_wave, \n",
    "         widthguess/SIG2FWHM,\n",
    "         np.mean([data[0], data[-1]]))\n",
    "bounds = ( (0,     rest_wave-0.2, 0.001, 0) , \n",
    "           (np.inf,  rest_wave+0.2, widthguess/SIG2FWHM*200, np.inf) )\n",
    "\n",
    "\n",
    "plt.errorbar(lamb, data,\n",
    "             xerr = 0, yerr = err,\n",
    "             ecolor = 'dodgerblue',\n",
    "             elinewidth = 3, \n",
    "             capsize = 0, capthick = 0, \n",
    "             errorevery = 1,\n",
    "             drawstyle = 'steps-mid', linewidth = 1,\n",
    "             color = 'black')\n",
    "# plt.axvline(x=rest_wave, color = 'dodgerblue', linestyle = '--')\n",
    "\n",
    "param, cov= curve_fit(gaussian_model, \n",
    "                      lamb, \n",
    "                      data, \n",
    "                      p0 = guess,\n",
    "                      bounds = bounds,\n",
    "                      sigma = err,\n",
    "                      absolute_sigma = True,\n",
    "                      maxfev=10000,\n",
    "                      xtol = 1.0e-5, ftol = 1.0e-5)\n",
    "\n",
    "wavel = np.arange(lamb[0], lamb[-1], 0.001)\n",
    "plt.plot(wavel, gaussian_model(wavel, *param), \n",
    "         drawstyle ='steps-mid', color = 'tomato', \n",
    "         linewidth = 3)\n",
    "\n",
    "# plt.xlim([1355.3, 1356.25])\n",
    "plt.tick_params(axis='x', labelrotation = 30)\n",
    "plt.show()"
   ]
  },
  {
   "cell_type": "markdown",
   "metadata": {},
   "source": [
    "> - That did an OK job(!), but you can see that the continuum level isn't great. \n",
    "> - That is, again, because we have the carbon line beside this. \n",
    "> - Although C I isn't really a Gaussian we can fit it with one, in order to try and capture the continuum properly.\n",
    "> - It is also possible that the the C I and O I lines get close together, meaning it might be good to fit both simultaneously.\n",
    "> - We can do that via fitting a Gaussian with multiple components and constraining those fairly tightly."
   ]
  },
  {
   "cell_type": "markdown",
   "metadata": {},
   "source": [
    "***A multi-component Gaussian model***\n",
    "> - With that model we define as many Gaussians as we want.\n",
    "> - Recall we have to define how many components in curve_fit via the p0 guess."
   ]
  },
  {
   "cell_type": "code",
   "execution_count": null,
   "metadata": {},
   "outputs": [],
   "source": [
    "def gaussian_model_mult(x, *p):\n",
    "    \n",
    "    '''\n",
    "    PURPOSE: To model a mutli-component Gaussian as a function of X\n",
    "    \n",
    "    INPUTS:  x -- float array\n",
    "                  the values at which to evaluate the Gaussian(s)\n",
    "             p -- tuple\n",
    "                  p[0] is the amplitude of the Gaussian\n",
    "                  p[1] is the centroid of the Gaussian\n",
    "                  p[2] is the sigma (standard deviation) of the Gaussian \n",
    "                  ... the next three components are the same vars for the next Gaussian \n",
    "                  etc., \n",
    "                  p[-1] is some offset on the y-axis (i.e. the continuum level)\n",
    "    \n",
    "    OUTPUTS: y -- float array\n",
    "                  The y-axis value associated with each input x-axis value x\n",
    "                  \n",
    "    NOTES: The model automatically works out how many components there are.\n",
    "    \n",
    "    '''   \n",
    "    \n",
    "    #work out number of Guassian comps \n",
    "    ncomp = int((len(p)-1)/3)\n",
    "    \n",
    "    # only necessary because of some issue I had making a tuple out of a list\n",
    "    # of fit params from curve_fit.\n",
    "    if ncomp == 0:\n",
    "        p = p[0]\n",
    "        ncomp = int((len(p)-1)/3)\n",
    "        \n",
    "    y = 0.0\n",
    "    \n",
    "    zerolev = p[-1]   \n",
    "    \n",
    "    # loop through each component and add to the running total\n",
    "    for i in range(ncomp):\n",
    "        A, mu, sigma = p[i*3:(i+1)*3]\n",
    "        y += A * np.exp(-(x-mu)*(x-mu)/(2.0*sigma*sigma))\n",
    "        \n",
    "    # the full result is each component + the background\n",
    "    return y + zerolev "
   ]
  },
  {
   "cell_type": "markdown",
   "metadata": {},
   "source": [
    "> - Try fitting that same pixel, but this time we include C I also"
   ]
  },
  {
   "cell_type": "code",
   "execution_count": null,
   "metadata": {},
   "outputs": [],
   "source": [
    "\n",
    "wind1 = np.abs(sg_oi_dict['wl'][:,0] - 1354.5).argmin()\n",
    "wind2 = np.abs(sg_oi_dict['wl'][:,0] - 1357).argmin()\n",
    "\n",
    "data = copy.deepcopy(sg_oi_dict['data'][210,1369,wind1:wind2,0])\n",
    "err = copy.deepcopy(sg_oi_dict_err['err_dn_s'][210,1369,wind1:wind2,0])\n",
    "lamb = copy.deepcopy(sg_oi_dict['wl'][wind1:wind2,0])\n",
    "\n",
    "\n",
    "guess = (np.max(data) - np.mean([data[0],data[-1]]), rest_wave, widthguess/SIG2FWHM, ### GUESS FOR COMPONENT 1\n",
    "         np.max(data) - np.mean([data[0],data[-1]]), 1355.8, widthguess/SIG2FWHM, ### GUESS FOR COMPONENT 2\n",
    "         np.mean([data[0], data[-1]]))\n",
    "bounds = ( (0, rest_wave-0.15, 0.001, \n",
    "            0, 1355.8-0.15, 0.001, \n",
    "            0) , \n",
    "           (1000,   rest_wave+0.15, widthguess/SIG2FWHM*200, \n",
    "            1000,   1355.8+0.15, widthguess/SIG2FWHM*200,   \n",
    "             50) )\n",
    "\n",
    "\n",
    "plt.errorbar(lamb, data,\n",
    "             xerr = 0, yerr = err,\n",
    "             ecolor = 'dodgerblue',\n",
    "             elinewidth = 2, \n",
    "             capsize = 0, capthick = 0, \n",
    "             errorevery = 1,\n",
    "             drawstyle = 'steps-mid', linewidth = 1,\n",
    "             color = 'black')\n",
    "plt.axvline(x=rest_wave, color = 'grey', linestyle = ':')\n",
    "\n",
    "\n",
    "param, cov= curve_fit(gaussian_model_mult, \n",
    "                      lamb, \n",
    "                      data, \n",
    "                      p0 = guess,\n",
    "                      bounds = bounds,\n",
    "                      sigma = err,\n",
    "                      absolute_sigma = True,\n",
    "                      maxfev=10000,\n",
    "                      xtol = 1.0e-5, ftol = 1.0e-5)\n",
    "\n",
    "wavel = np.arange(lamb[0], lamb[-1], 0.001)\n",
    "plt.plot(wavel, gaussian_model_mult(wavel, *param), \n",
    "         drawstyle ='steps-mid', color = 'tomato', \n",
    "         linewidth = 3)\n",
    "# plt.axvline(x=1355.408, color = 'tomato', linestyle = '--')\n",
    "# plt.axvline(x=1355.708, color = 'tomato', linestyle = '--')\n",
    "\n",
    "# plt.xlim([1355.3, 1356.25])\n",
    "plt.tick_params(axis='x', labelrotation = 30)\n",
    "plt.show()"
   ]
  },
  {
   "cell_type": "markdown",
   "metadata": {},
   "source": [
    "> - That works a bit better!... and might be good to include both in case they merge together at some point"
   ]
  },
  {
   "cell_type": "code",
   "execution_count": null,
   "metadata": {},
   "outputs": [],
   "source": []
  }
 ],
 "metadata": {
  "kernelspec": {
   "display_name": "py38_solar_sunpy",
   "language": "python",
   "name": "py38_solar_sunpy"
  },
  "language_info": {
   "codemirror_mode": {
    "name": "ipython",
    "version": 3
   },
   "file_extension": ".py",
   "mimetype": "text/x-python",
   "name": "python",
   "nbconvert_exporter": "python",
   "pygments_lexer": "ipython3",
   "version": "3.8.5"
  }
 },
 "nbformat": 4,
 "nbformat_minor": 4
}
