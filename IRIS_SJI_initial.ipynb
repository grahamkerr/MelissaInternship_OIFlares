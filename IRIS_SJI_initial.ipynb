{
 "cells": [
  {
   "cell_type": "markdown",
   "metadata": {},
   "source": [
    "### Graham Kerr\n",
    "#### graham.s.kerr@NASA.gov; kerrg@cua.edu\n",
    "\n",
    "<H1 font size=\"+3\" style=\"color:red\">\n",
    "O I in Flares<br>\n",
    "-- IRIS SJI Initial <br>\n",
    "</H1>\n",
    "\n",
    "<b>This notebook will</b>\n",
    "> - Read in IRIS SJI data\n",
    "> - Allow quicklooks\n",
    "> - Extract the data and header info\n",
    "> - Grab the solar-x and solar-y info\n",
    "> - Correct for exposure time\n",
    "\n",
    "\n",
    "\n"
   ]
  },
  {
   "cell_type": "markdown",
   "metadata": {},
   "source": [
    "---\n",
    "### <b style=\"color:blue\"> Some set up </b>\n",
    "\n",
    "***Import Modules***"
   ]
  },
  {
   "cell_type": "code",
   "execution_count": null,
   "metadata": {},
   "outputs": [],
   "source": [
    "##\n",
    "## Import various modules -- can tidy up later\n",
    "##\n",
    "import numpy as np\n",
    "import matplotlib as mpl\n",
    "import matplotlib.pyplot as plt\n",
    "import sys\n",
    "import os\n",
    "import re\n",
    "from scipy import io\n",
    "import pickle\n",
    "import cmocean\n",
    "import copy\n",
    "import iris_lmsalpy\n",
    "import astropy\n",
    "import pandas as pd"
   ]
  },
  {
   "cell_type": "markdown",
   "metadata": {},
   "source": [
    "---\n",
    "### <b style=\"color:blue\"> Read in the data </b>\n",
    "\n",
    "> - Just comment out if there if any of the filters are missing"
   ]
  },
  {
   "cell_type": "code",
   "execution_count": null,
   "metadata": {},
   "outputs": [],
   "source": [
    "##\n",
    "## The SJI filenames\n",
    "## \n",
    "\n",
    "dir1 = './'\n",
    "\n",
    "filename_1400 = dir1+'iris_l2_20140910_112825_3860259453_SJI_1400_t000.fits'\n",
    "# filename_1330 = dir1+'iris_l2_20140910_112825_3860259453_SJI_1330_t000.fits'\n",
    "# filename_2832 = dir1+'iris_l2_20140910_112825_3860259453_SJI_2832_t000.fits'\n",
    "filename_2796 = dir1+'iris_l2_20140910_112825_3860259453_SJI_2796_t000.fits'"
   ]
  },
  {
   "cell_type": "code",
   "execution_count": null,
   "metadata": {},
   "outputs": [],
   "source": [
    "##\n",
    "## Create SJI objects\n",
    "##\n",
    "sji_1400 = iris_lmsalpy.extract_irisL2data.load(filename_1400)\n",
    "# sji_1330 = iris_lmsalpy.extract_irisL2data.load(filename_1330)\n",
    "# sji_2832 = iris_lmsalpy.extract_irisL2data.load(filename_2832)\n",
    "sji_2796 = iris_lmsalpy.extract_irisL2data.load(filename_2796)"
   ]
  },
  {
   "cell_type": "markdown",
   "metadata": {},
   "source": [
    "> - The data cubes [x,y,time] are saved as memory map objects, but if we want to modify them (e.g. normalise by exposure time etc.,) then we need to have them in the computer memory properly."
   ]
  },
  {
   "cell_type": "code",
   "execution_count": null,
   "metadata": {},
   "outputs": [],
   "source": [
    "##\n",
    "## Bring them into local memory so we can modify them\n",
    "##\n",
    "sji_1400.flush()\n",
    "# sji_1330.flush()\n",
    "# sji_2832.flush()\n",
    "sji_2796.flush()"
   ]
  },
  {
   "cell_type": "markdown",
   "metadata": {},
   "source": [
    "> - The SJI data are image cubes of [x,y,time], and are accessed from each object.\n",
    "> - Each object is a dictionary, containing certain 'keys'"
   ]
  },
  {
   "cell_type": "code",
   "execution_count": null,
   "metadata": {},
   "outputs": [],
   "source": [
    "## This tell us that the variable 'SJI_1400' is a key of sji_1400.SJI object\n",
    "sji_1400.SJI.keys()"
   ]
  },
  {
   "cell_type": "code",
   "execution_count": null,
   "metadata": {},
   "outputs": [],
   "source": [
    "## held within that is another dictionary (I know...)\n",
    "sji_1400.SJI['SJI_1400'].keys()"
   ]
  },
  {
   "cell_type": "code",
   "execution_count": null,
   "metadata": {},
   "outputs": [],
   "source": [
    "## data holds the actual images, the size of which is\n",
    "sji_1400.SJI['SJI_1400'].data.shape"
   ]
  },
  {
   "cell_type": "markdown",
   "metadata": {},
   "source": [
    "***The header files contain lots of metadata and useful info we need for the analysis***\n",
    "> - There are different extensions to the fits headers that each contain different info, some of them are part of the time-series info, some are more general for the full observing run.\n",
    "> - To be honest I find them rather confusing sometimes, but some experimenting, checking the code for iris_lmsalpy, and Alberto's docs for iris_lmsalpy helped me figure out what to grab "
   ]
  },
  {
   "cell_type": "code",
   "execution_count": null,
   "metadata": {},
   "outputs": [],
   "source": [
    "##\n",
    "## Create header to hold bulk of info from extension 0\n",
    "##\n",
    "hdr_1400_ext0 = iris_lmsalpy.extract_irisL2data.only_header(filename_1400, extension = 0)\n",
    "# hdr_1330_ext0 = iris_lmsalpy.extract_irisL2data.only_header(filename_1330, extension = 0)\n",
    "# hdr_2832_ext0 = iris_lmsalpy.extract_irisL2data.only_header(filename_2832, extension = 0)\n",
    "hdr_2796_ext0 = iris_lmsalpy.extract_irisL2data.only_header(filename_2796, extension = 0)"
   ]
  },
  {
   "cell_type": "code",
   "execution_count": null,
   "metadata": {},
   "outputs": [],
   "source": [
    "##\n",
    "## Create header to hold bulk of info from extension 1\n",
    "##\n",
    "hdr_1400_ext1 = iris_lmsalpy.extract_irisL2data.only_header(filename_1400, extension = 1)\n",
    "# hdr_1330_ext1 = iris_lmsalpy.extract_irisL2data.only_header(filename_1330, extension = 1)\n",
    "# hdr_2832_ext1 = iris_lmsalpy.extract_irisL2data.only_header(filename_2832, extension = 1)\n",
    "hdr_2796_ext1 = iris_lmsalpy.extract_irisL2data.only_header(filename_2796, extension = 1)"
   ]
  },
  {
   "cell_type": "code",
   "execution_count": null,
   "metadata": {},
   "outputs": [],
   "source": [
    "##\n",
    "## Create header to hold bulk of info from extension 2\n",
    "##\n",
    "hdr_1400_ext2 = iris_lmsalpy.extract_irisL2data.only_header(filename_1400, extension = 2)\n",
    "# hdr_1330_ext2 = iris_lmsalpy.extract_irisL2data.only_header(filename_1330, extension = 2)\n",
    "# hdr_2832_ext2 = iris_lmsalpy.extract_irisL2data.only_header(filename_2832, extension = 2)\n",
    "hdr_2796_ext2 = iris_lmsalpy.extract_irisL2data.only_header(filename_2796, extension = 2)"
   ]
  },
  {
   "cell_type": "markdown",
   "metadata": {},
   "source": [
    "> - Lets look at what is inside the header ext 0\n",
    "> - Then, access one of the variables... we will choose the naxis 3 variable, which is the number of frames we have of 1400A images. "
   ]
  },
  {
   "cell_type": "code",
   "execution_count": null,
   "metadata": {},
   "outputs": [],
   "source": [
    "hdr_1400_ext0.keys"
   ]
  },
  {
   "cell_type": "code",
   "execution_count": null,
   "metadata": {},
   "outputs": [],
   "source": [
    "numframes_1400 = hdr_1400_ext0['naxis3']\n",
    "numframes_2796 = hdr_2796_ext0['naxis3']\n",
    "\n",
    "\n",
    "print(\"number of 1400A frames = %d\" %(numframes_1400))\n",
    "print(\"number of 2796A frames = %d\" %(numframes_2796))"
   ]
  },
  {
   "cell_type": "markdown",
   "metadata": {},
   "source": [
    "> - Lets look at what is inside the header ext 1 and 2\n",
    "> - These are a bit different, and tell us what index of the header file data (next set of cells) each parameter is held in"
   ]
  },
  {
   "cell_type": "code",
   "execution_count": null,
   "metadata": {},
   "outputs": [],
   "source": [
    "hdr_1400_ext1.keys"
   ]
  },
  {
   "cell_type": "code",
   "execution_count": null,
   "metadata": {},
   "outputs": [],
   "source": [
    "hdr_1400_ext2.keys"
   ]
  },
  {
   "cell_type": "markdown",
   "metadata": {},
   "source": [
    "> - Now we grab the actual values from the header files"
   ]
  },
  {
   "cell_type": "code",
   "execution_count": null,
   "metadata": {},
   "outputs": [],
   "source": [
    "##\n",
    "## Grab the data for the header extension 1\n",
    "##\n",
    "data_1400_ext1 = iris_lmsalpy.extract_irisL2data.only_data(filename_1400, extension=1)\n",
    "# data_1330_ext1 = iris_lmsalpy.extract_irisL2data.only_data(filename_1330, extension=1)\n",
    "# data_2832_ext1 = iris_lmsalpy.extract_irisL2data.only_data(filename_2832, extension=1)\n",
    "data_2796_ext1 = iris_lmsalpy.extract_irisL2data.only_data(filename_2796, extension=1)\n",
    "\n",
    "\n",
    "##\n",
    "## Grab the data for the header extension 2\n",
    "##\n",
    "data_1400_ext2 = iris_lmsalpy.extract_irisL2data.only_data(filename_1400, extension=2)\n",
    "# data_1330_ext2 = iris_lmsalpy.extract_irisL2data.only_data(filename_1330, extension=2)\n",
    "# data_2832_ext2 = iris_lmsalpy.extract_irisL2data.only_data(filename_2832, extension=2)\n",
    "data_2796_ext2 = iris_lmsalpy.extract_irisL2data.only_data(filename_2796, extension=2)"
   ]
  },
  {
   "cell_type": "markdown",
   "metadata": {},
   "source": [
    "***Now we assign some of those values to variables that we want to use later***"
   ]
  },
  {
   "cell_type": "markdown",
   "metadata": {},
   "source": [
    "> - number of exposures (frames) for each filter"
   ]
  },
  {
   "cell_type": "code",
   "execution_count": null,
   "metadata": {},
   "outputs": [],
   "source": [
    "##\n",
    "## Number of exposures\n",
    "##\n",
    "nexp_1400 = hdr_1400_ext0['naxis3']\n",
    "# nexp_1330 = hdr_1330_ext0['naxis3']\n",
    "# nexp_2832 = hdr_2832_ext0['naxis3']\n",
    "nexp_2796 = hdr_2796_ext0['naxis3']"
   ]
  },
  {
   "cell_type": "markdown",
   "metadata": {},
   "source": [
    "> - number of pixels in the x- and y- direction (usually this is also x- and y- on the Sun, but sometimes the spacecraft is rotated by 45 or 90 degrees)"
   ]
  },
  {
   "cell_type": "code",
   "execution_count": null,
   "metadata": {},
   "outputs": [],
   "source": [
    "##\n",
    "## Number of x and y pixels\n",
    "##\n",
    "nx_1400 = hdr_1400_ext0['naxis1']\n",
    "# nx_1330 = hdr_1330_ext0['naxis1']\n",
    "# nx_2832 = hdr_2832_ext0['naxis1']\n",
    "nx_2796 = hdr_2796_ext0['naxis1']\n",
    "\n",
    "ny_1400 = hdr_1400_ext0['naxis2']\n",
    "# ny_1330 = hdr_1330_ext0['naxis2']\n",
    "# ny_2832 = hdr_2832_ext0['naxis2']\n",
    "ny_2796 = hdr_2796_ext0['naxis2']"
   ]
  },
  {
   "cell_type": "markdown",
   "metadata": {},
   "source": [
    "> - The exposure time for each exposure (how long was the shutter on the camera open). This is sometimes constant, but usually there is some level of variation. This variation may be small or if the automatic flare detection flag was triggered the exposure time can drop suddenely (in flares the exposure time might drop in order to not saturate that camera).\n",
    "> - We know what index this is held in by looking at the ext1 header info above. \n",
    "> - Lets plot the exposure times to see how much they vary."
   ]
  },
  {
   "cell_type": "code",
   "execution_count": null,
   "metadata": {},
   "outputs": [],
   "source": [
    "##\n",
    "## Grab exposure times \n",
    "##\n",
    "exptimes_1400 = data_1400_ext1[:,3]\n",
    "# exptimes_1330 = data_1330_ext1[:,3]\n",
    "# exptimes_2832 = data_2832_ext1[:,3]\n",
    "exptimes_2796 = data_2796_ext1[:,3]"
   ]
  },
  {
   "cell_type": "code",
   "execution_count": null,
   "metadata": {},
   "outputs": [],
   "source": [
    "%matplotlib inline\n",
    "plt.plot(exptimes_1400, color = 'black', label = '1400', linestyle = '-')\n",
    "# plt.plot(exptimes_1330, color = 'tomato', label = '1330',linestyle = '--')\n",
    "# plt.plot(exptimes_2832, color = 'forestgreen', label = '2832', linestyle = ':')\n",
    "plt.plot(exptimes_2796, color = 'dodgerblue', label = '2796', linestyle = '-.')\n",
    "plt.show()"
   ]
  },
  {
   "cell_type": "markdown",
   "metadata": {},
   "source": [
    "---\n",
    "### <b style=\"color:blue\"> Correct for Exposure time </b>\n",
    "\n",
    "> - Since exposure time varies over time, we want to make sure that if we compare different frames we comparing apples-to-apples. \n",
    "> - The data are in Counts, often referred to as Data Numbers (DN).\n",
    "> - Dividing by the exposure time (how long the telescope was looking for) we can get DN/s, which can be more directly compared from frame to frame."
   ]
  },
  {
   "cell_type": "code",
   "execution_count": null,
   "metadata": {},
   "outputs": [],
   "source": [
    "##\n",
    "## Correct for Exposure Times\n",
    "##\n",
    "sji_1400.SJI['SJI_1400'].data/=exptimes_1400\n",
    "# sji_1330.SJI['SJI_1330'].data/=exptimes_1330\n",
    "# sji_2832.SJI['SJI_2832'].data/=exptimes_2832\n",
    "sji_2796.SJI['SJI_2832'].data/=exptimes_2796"
   ]
  },
  {
   "cell_type": "markdown",
   "metadata": {},
   "source": [
    "---\n",
    "### <b style=\"color:blue\"> Lets use the in-built iris_lmsalpy methods for quicklook </b>\n",
    "\n",
    "> - First set some limits (trial and error, you'll probably have to fiddle with the intensity ranges to clip).\n",
    "> - Then run the quicklook method, which opens an interactive window (check Alberto's docs for some keystroke commands to manually change the intensity ranges etc.,)\n",
    "      "
   ]
  },
  {
   "cell_type": "code",
   "execution_count": null,
   "metadata": {},
   "outputs": [],
   "source": [
    "##\n",
    "## Some stuff for plotting\n",
    "##\n",
    "sji_1400.SJI['SJI_1400'].show_slit = True\n",
    "sji_1400.SJI['SJI_1400'].clip_ima = [0, 1000]\n",
    "\n",
    "# sji_1330.SJI['SJI_1330'].show_slit = False\n",
    "# sji_1330.SJI['SJI_1330'].clip_ima = [0, 200]\n",
    "\n",
    "# sji_2832.SJI['SJI_2832'].show_slit = False\n",
    "# sji_2832.SJI['SJI_2832'].clip_ima = [0, 2500]\n",
    "\n",
    "sji_2796.SJI['SJI_2796'].show_slit = True\n",
    "sji_2796.SJI['SJI_2796'].clip_ima = [0, 2500]"
   ]
  },
  {
   "cell_type": "code",
   "execution_count": null,
   "metadata": {},
   "outputs": [],
   "source": [
    "#\n",
    "# Quick look plotting\n",
    "#\n",
    "%matplotlib tk\n",
    "sji_1400.quick_look()\n",
    "\n",
    "## You might have to run this cell twice when loading the \n",
    "#tk backend to make it plot in an interactive window"
   ]
  },
  {
   "cell_type": "code",
   "execution_count": null,
   "metadata": {},
   "outputs": [],
   "source": [
    "#\n",
    "# Quick look plotting\n",
    "#\n",
    "#%matplotlib tk\n",
    "sji_2796.quick_look()"
   ]
  },
  {
   "cell_type": "code",
   "execution_count": null,
   "metadata": {},
   "outputs": [],
   "source": []
  },
  {
   "cell_type": "markdown",
   "metadata": {},
   "source": [
    "---\n",
    "### <b style=\"color:blue\"> Grab the slit locations, in arcseconds </b>\n",
    "\n",
    "> - Uses a few variables from the header files, we can discuss what those variables are, or check the header ext info"
   ]
  },
  {
   "cell_type": "code",
   "execution_count": null,
   "metadata": {},
   "outputs": [],
   "source": [
    "##\n",
    "## Slit location in arcsecs\n",
    "## \n",
    "\n",
    "lcslit_1400 = ( (sji_1400.SJI['SJI_1400']['SLTPX1IX'] - np.repeat(hdr_1400_ext0['CRPIX1'],nexp_1400)) * \n",
    "          hdr_1400_ext0['CDELT1'] + \n",
    "          sji_1400.SJI['SJI_1400'].XCENIX)\n",
    "# lcslit_1330 = ( (sji_1330.SJI['SJI_1330']['SLTPX1IX'] - np.repeat(hdr_1330_ext0['CRPIX1'],nexp_1330)) * \n",
    "#           hdr_1330_ext0['CDELT1'] + \n",
    "#           sji_1330.SJI['SJI_1330'].XCENIX)\n",
    "# lcslit_2832 = ( (sji_2832.SJI['SJI_2832']['SLTPX1IX'] - np.repeat(hdr_2832_ext0['CRPIX1'],nexp_2832)) * \n",
    "#           hdr_2832_ext0['CDELT1'] + \n",
    "#           sji_2832.SJI['SJI_2832'].XCENIX)\n",
    "lcslit_2796 = ( (sji_2796.SJI['SJI_2796']['SLTPX1IX'] - np.repeat(hdr_2796_ext0['CRPIX1'],nexp_2796)) * \n",
    "          hdr_2796_ext0['CDELT1'] + \n",
    "          sji_2796.SJI['SJI_2796'].XCENIX)"
   ]
  },
  {
   "cell_type": "markdown",
   "metadata": {},
   "source": [
    "---\n",
    "### <b style=\"color:blue\"> If you want to save the data and header info for use later </b>\n",
    "\n",
    "> - Saves the data, and header info, in a dictionary that you can load in another notebook for analysis\n",
    "> - Doing this a lot can make some pretty large files... some people like just running through the above each time they analyse the SJI, but I prefer to save them and load them in later for future analysis\n",
    "> - This saves them all in one big file, so all the SJI wavelengths in a single place, but you can modify the code to save each filter separately if you wish."
   ]
  },
  {
   "cell_type": "code",
   "execution_count": null,
   "metadata": {},
   "outputs": [],
   "source": [
    "##\n",
    "## Create a dictionary in which to save the data\n",
    "##\n",
    "sji_dict = {\n",
    "#             'sji_2832':sji_2832.SJI['SJI_2832']['data'], \n",
    "#             'sji_1330':sji_1330.SJI['SJI_1330']['data'],\n",
    "            'sji_1400':sji_1400.SJI['SJI_1400']['data'],\n",
    "            'sji_2796':sji_2796.SJI['SJI_2796']['data'],\n",
    "#             'xcen_2832':sji_2832.SJI['SJI_2832'].XCENIX,\n",
    "#             'xcen_1330':sji_1330.SJI['SJI_1330'].XCENIX,\n",
    "            'xcen_1400':sji_1400.SJI['SJI_1400'].XCENIX,\n",
    "            'xcen_2796':sji_2796.SJI['SJI_2796'].XCENIX,\n",
    "#             'ycen_2832':sji_2832.SJI['SJI_2832'].YCENIX,\n",
    "#             'ycen_1330':sji_1330.SJI['SJI_1330'].YCENIX,\n",
    "            'ycen_1400':sji_1400.SJI['SJI_1400'].YCENIX,\n",
    "            'ycen_2796':sji_2796.SJI['SJI_2796'].YCENIX,\n",
    "#             'SLTPX1IX_2832':sji_2832.SJI['SJI_2832']['SLTPX1IX'],\n",
    "#             'SLTPX1IX_1330':sji_1330.SJI['SJI_1330']['SLTPX1IX'],\n",
    "            'SLTPX1IX_1400':sji_1400.SJI['SJI_1400']['SLTPX1IX'],\n",
    "            'SLTPX1IX_2796':sji_2796.SJI['SJI_2796']['SLTPX1IX'],\n",
    "#             'lcslit_2832':lcslit_2832,\n",
    "#             'lcslit_1330':lcslit_1330,\n",
    "            'lcslit_1400':lcslit_1400,\n",
    "            'lcslit_2796':lcslit_2796,\n",
    "#             'hdr_2832_ext0':hdr_2832_ext0,\n",
    "#             'hdr_1330_ext0':hdr_1330_ext0,\n",
    "            'hdr_1400_ext0':hdr_1400_ext0,\n",
    "            'hdr_2796_ext0':hdr_2796_ext0,\n",
    "#             'time_2832':sji_2832.SJI['SJI_2832'].date_time_acq_ok,\n",
    "#             'time_1330':sji_1330.SJI['SJI_1330'].date_time_acq_ok,\n",
    "            'time_1400':sji_1400.SJI['SJI_1400'].date_time_acq_ok,\n",
    "            'time_2796':sji_2796.SJI['SJI_2796'].date_time_acq_ok,\n",
    "            'readme':'SJI data has been exposure corrected'}\n",
    "file_sji = 'IRIS_SJI_2014_Sept_10_exptimecorr.pkl'\n",
    "with open(file_sji, 'wb') as output:  # Overwrites any existing file.\n",
    "    pickle.dump(sji_dict, output, pickle.HIGHEST_PROTOCOL)\n",
    "            "
   ]
  },
  {
   "cell_type": "code",
   "execution_count": null,
   "metadata": {},
   "outputs": [],
   "source": [
    "##\n",
    "## Set the data part to zero, to save space, and then save the object with header info\n",
    "##\n",
    "# sji_2832.SJI['SJI_2832']['data'][:,:,:] = 0\n",
    "# sji_1330.SJI['SJI_1330']['data'][:,:,:] = 0\n",
    "# sji_1400.SJI['SJI_1400']['data'][:,:,:] = 0\n",
    "# sji_1400.SJI['SJI_2796']['data'][:,:,:] = 0\n",
    "\n",
    "\n",
    "# iris_lmsalpy.extract_irisL2data.save(sji_2832, filename = 'SJI2832_2014_Sept_10')\n",
    "# iris_lmsalpy.extract_irisL2data.save(sji_1330, filename = 'SJI1330_2014_Sept_10')\n",
    "# iris_lmsalpy.extract_irisL2data.save(sji_1400, filename = 'SJI1400_2014_Sept_10')\n",
    "# iris_lmsalpy.extract_irisL2data.save(sji_2796, filename = 'SJI2796_2014_Sept_10')"
   ]
  },
  {
   "cell_type": "markdown",
   "metadata": {},
   "source": [
    "> - This is the command to read the pickle (pkl) file back into memory"
   ]
  },
  {
   "cell_type": "code",
   "execution_count": null,
   "metadata": {},
   "outputs": [],
   "source": [
    "file_sji = 'IRIS_SJI_2014_Sept_10_exptimecorr.pkl'\n",
    "with open(file_sji, 'rb') as output:  \n",
    "    sji_dict = pickle.load(output)"
   ]
  },
  {
   "cell_type": "code",
   "execution_count": null,
   "metadata": {},
   "outputs": [],
   "source": [
    "sji_dict.keys()"
   ]
  },
  {
   "cell_type": "code",
   "execution_count": null,
   "metadata": {},
   "outputs": [],
   "source": []
  }
 ],
 "metadata": {
  "kernelspec": {
   "display_name": "py38_solar_sunpy",
   "language": "python",
   "name": "py38_solar_sunpy"
  },
  "language_info": {
   "codemirror_mode": {
    "name": "ipython",
    "version": 3
   },
   "file_extension": ".py",
   "mimetype": "text/x-python",
   "name": "python",
   "nbconvert_exporter": "python",
   "pygments_lexer": "ipython3",
   "version": "3.8.5"
  }
 },
 "nbformat": 4,
 "nbformat_minor": 4
}
