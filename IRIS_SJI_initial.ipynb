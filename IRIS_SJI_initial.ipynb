{
 "cells": [
  {
   "cell_type": "markdown",
   "metadata": {},
   "source": [
    "### Graham Kerr\n",
    "#### graham.s.kerr@NASA.gov; kerrg@cua.edu\n",
    "\n",
    "<H1 font size=\"+3\" style=\"color:red\">\n",
    "O I in Flares<br>\n",
    "-- IRIS SJI Initial <br>\n",
    "</H1>\n",
    "\n",
    "<b>This notebook will</b>\n",
    "> - Read in IRIS SJI data\n",
    "> - Allow quicklooks\n",
    "> - Extract the data and header info\n",
    "> - Grab the solar-x and solar-y info\n",
    "> - Correct for exposure time\n",
    "\n",
    "\n",
    "\n"
   ]
  },
  {
   "cell_type": "markdown",
   "metadata": {},
   "source": [
    "---\n",
    "### <b style=\"color:blue\"> Some set up </b>\n",
    "\n",
    "***Import Modules***"
   ]
  },
  {
   "cell_type": "code",
   "execution_count": 99,
   "metadata": {},
   "outputs": [],
   "source": [
    "##\n",
    "## Import various modules -- can tidy up later\n",
    "##\n",
    "import numpy as np\n",
    "import matplotlib as mpl\n",
    "import matplotlib.pyplot as plt\n",
    "import sys\n",
    "import os\n",
    "import re\n",
    "from scipy import io\n",
    "import pickle\n",
    "import cmocean\n",
    "import copy\n",
    "import iris_lmsalpy\n",
    "import astropy\n",
    "import pandas as pd\n",
    "sys.path.insert(0,'/Users/gskerr1/Documents/Research/Python_Programs')\n",
    "import utils"
   ]
  },
  {
   "cell_type": "markdown",
   "metadata": {},
   "source": [
    "---\n",
    "### <b style=\"color:blue\"> Read in the data </b>\n",
    "\n",
    "> - Just comment out if there if any of the filters are missing"
   ]
  },
  {
   "cell_type": "code",
   "execution_count": 3,
   "metadata": {},
   "outputs": [],
   "source": [
    "##\n",
    "## The SJI filenames\n",
    "## \n",
    "\n",
    "dir1 = '/Users/gskerr1/Documents/Research/Melissa_OI_IRIS/2014_10_25_1500/'\n",
    "\n",
    "# filename_1400 = dir1+'iris_l2_20140910_112825_3860259453_SJI_1400_t000.fits'\n",
    "filename_1330 = dir1+'iris_l2_20141025_145828_3880106953_SJI_1330_t000.fits'\n",
    "filename_2832 = dir1+'iris_l2_20141025_145828_3880106953_SJI_2832_t000.fits'\n",
    "filename_2796 = dir1+'iris_l2_20141025_145828_3880106953_SJI_2796_t000.fits'"
   ]
  },
  {
   "cell_type": "code",
   "execution_count": 4,
   "metadata": {},
   "outputs": [
    {
     "name": "stdout",
     "output_type": "stream",
     "text": [
      "Creating temporary file...  /var/folders/t8/737ksbrs7wscy5j_wy_320t40000gp/T/tmpkhjj4acs\n",
      "Creating temporary file...  /var/folders/t8/737ksbrs7wscy5j_wy_320t40000gp/T/tmpm6iv9uut\n",
      "Creating temporary file...  /var/folders/t8/737ksbrs7wscy5j_wy_320t40000gp/T/tmpjq9hfoay\n"
     ]
    }
   ],
   "source": [
    "##\n",
    "## Create SJI objects\n",
    "##\n",
    "# sji_1400 = iris_lmsalpy.extract_irisL2data.load(filename_1400)\n",
    "sji_1330 = iris_lmsalpy.extract_irisL2data.load(filename_1330)\n",
    "sji_2832 = iris_lmsalpy.extract_irisL2data.load(filename_2832)\n",
    "sji_2796 = iris_lmsalpy.extract_irisL2data.load(filename_2796)"
   ]
  },
  {
   "cell_type": "markdown",
   "metadata": {},
   "source": [
    "> - The data cubes [x,y,time] are saved as memory map objects, but if we want to modify them (e.g. normalise by exposure time etc.,) then we need to have them in the computer memory properly."
   ]
  },
  {
   "cell_type": "code",
   "execution_count": 5,
   "metadata": {},
   "outputs": [
    {
     "name": "stdout",
     "output_type": "stream",
     "text": [
      "Removing temporary file... /var/folders/t8/737ksbrs7wscy5j_wy_320t40000gp/T/tmpkhjj4acs\n",
      "Removing temporary file... /var/folders/t8/737ksbrs7wscy5j_wy_320t40000gp/T/tmpm6iv9uut\n",
      "Removing temporary file... /var/folders/t8/737ksbrs7wscy5j_wy_320t40000gp/T/tmpjq9hfoay\n"
     ]
    }
   ],
   "source": [
    "##\n",
    "## Bring them into local memory so we can modify them\n",
    "##\n",
    "# sji_1400.flush()\n",
    "sji_1330.flush()\n",
    "sji_2832.flush()\n",
    "sji_2796.flush()"
   ]
  },
  {
   "cell_type": "markdown",
   "metadata": {},
   "source": [
    "> - The SJI data are image cubes of [x,y,time], and are accessed from each object.\n",
    "> - Each object is a dictionary, containing certain 'keys'"
   ]
  },
  {
   "cell_type": "code",
   "execution_count": 6,
   "metadata": {},
   "outputs": [
    {
     "data": {
      "text/plain": [
       "dict_keys(['SJI_1330'])"
      ]
     },
     "execution_count": 6,
     "metadata": {},
     "output_type": "execute_result"
    }
   ],
   "source": [
    "## This tell us that the variable 'SJI_1400' is a key of sji_1400.SJI object\n",
    "sji_1330.SJI.keys()"
   ]
  },
  {
   "cell_type": "code",
   "execution_count": 7,
   "metadata": {},
   "outputs": [
    {
     "data": {
      "text/plain": [
       "dict_keys(['data', 'wl', 'date_in_filename', 'iris_obs_code', 'raster_info', 'DATE_OBS', 'DATE_END', 'TDET', 'TDESCT', 'TWAVE', 'TWMIN', 'TWMAX', 'SPCSCL', 'SPXSCL', 'SPYSCL', 'POS_X', 'POS_Y', 'SLTPX1IX', 'SLTPX2IX', 'XCENIX', 'YCENIX', 'date_time_acq', 'date_time_acq_ok', 'extent_arcsec_arcsec', 'extent_px_px', 'extent_px_arcsec', 'extent_opt', 'extent_opt_coords', 'list_extent', 'list_extent_coords', 'temp_memmap_filename', 'clip_ima', 'cmap', 'slit_acqnum', '_SJI__clip_ima_ini', 'poi', '_SJI__animate', '_SJI__delay', '_SJI__dim_data', '_SJI__count_e', 'show_slit', '_SJI__show_title', '_SJI__linewidth', 'xlim1', 'ylim1', 'xlim2', 'ylim2', 'extent_display', 'extent_display_coords', '_SJI__count_poi', '_SJI__move_count_poi', 'set_IRIS', 'figsize', '_SJI__figsize_ori', 'temp_memmap_obj'])"
      ]
     },
     "execution_count": 7,
     "metadata": {},
     "output_type": "execute_result"
    }
   ],
   "source": [
    "## held within that is another dictionary (I know...)\n",
    "sji_1330.SJI['SJI_1330'].keys()"
   ]
  },
  {
   "cell_type": "code",
   "execution_count": 8,
   "metadata": {},
   "outputs": [
    {
     "data": {
      "text/plain": [
       "(387, 365, 680)"
      ]
     },
     "execution_count": 8,
     "metadata": {},
     "output_type": "execute_result"
    }
   ],
   "source": [
    "## data holds the actual images, the size of which is\n",
    "sji_1330.SJI['SJI_1330'].data.shape"
   ]
  },
  {
   "cell_type": "markdown",
   "metadata": {},
   "source": [
    "***The header files contain lots of metadata and useful info we need for the analysis***\n",
    "> - There are different extensions to the fits headers that each contain different info, some of them are part of the time-series info, some are more general for the full observing run.\n",
    "> - To be honest I find them rather confusing sometimes, but some experimenting, checking the code for iris_lmsalpy, and Alberto's docs for iris_lmsalpy helped me figure out what to grab "
   ]
  },
  {
   "cell_type": "code",
   "execution_count": 9,
   "metadata": {},
   "outputs": [],
   "source": [
    "##\n",
    "## Create header to hold bulk of info from extension 0\n",
    "##\n",
    "# hdr_1400_ext0 = iris_lmsalpy.extract_irisL2data.only_header(filename_1400, extension = 0)\n",
    "hdr_1330_ext0 = iris_lmsalpy.extract_irisL2data.only_header(filename_1330, extension = 0)\n",
    "hdr_2832_ext0 = iris_lmsalpy.extract_irisL2data.only_header(filename_2832, extension = 0)\n",
    "hdr_2796_ext0 = iris_lmsalpy.extract_irisL2data.only_header(filename_2796, extension = 0)"
   ]
  },
  {
   "cell_type": "code",
   "execution_count": 10,
   "metadata": {},
   "outputs": [],
   "source": [
    "##\n",
    "## Create header to hold bulk of info from extension 1\n",
    "##\n",
    "# hdr_1400_ext1 = iris_lmsalpy.extract_irisL2data.only_header(filename_1400, extension = 1)\n",
    "hdr_1330_ext1 = iris_lmsalpy.extract_irisL2data.only_header(filename_1330, extension = 1)\n",
    "hdr_2832_ext1 = iris_lmsalpy.extract_irisL2data.only_header(filename_2832, extension = 1)\n",
    "hdr_2796_ext1 = iris_lmsalpy.extract_irisL2data.only_header(filename_2796, extension = 1)"
   ]
  },
  {
   "cell_type": "code",
   "execution_count": 11,
   "metadata": {},
   "outputs": [],
   "source": [
    "##\n",
    "## Create header to hold bulk of info from extension 2\n",
    "##\n",
    "# hdr_1400_ext2 = iris_lmsalpy.extract_irisL2data.only_header(filename_1400, extension = 2)\n",
    "hdr_1330_ext2 = iris_lmsalpy.extract_irisL2data.only_header(filename_1330, extension = 2)\n",
    "hdr_2832_ext2 = iris_lmsalpy.extract_irisL2data.only_header(filename_2832, extension = 2)\n",
    "hdr_2796_ext2 = iris_lmsalpy.extract_irisL2data.only_header(filename_2796, extension = 2)"
   ]
  },
  {
   "cell_type": "markdown",
   "metadata": {},
   "source": [
    "> - Lets look at what is inside the header ext 0\n",
    "> - Then, access one of the variables... we will choose the naxis 3 variable, which is the number of frames we have of 1400A images. "
   ]
  },
  {
   "cell_type": "code",
   "execution_count": 12,
   "metadata": {},
   "outputs": [
    {
     "data": {
      "text/plain": [
       "<bound method Header.keys of SIMPLE  =                    T / Written by IDL:  Sat May 16 02:01:38 2020      \n",
       "BITPIX  =                   16 / Number of bits per data pixel                  \n",
       "NAXIS   =                    3 / Number of data axes                            \n",
       "NAXIS1  =                  365 /                                                \n",
       "NAXIS2  =                  387 /                                                \n",
       "NAXIS3  =                  680 /                                                \n",
       "EXTEND  =                    T / FITS data may contain extensions               \n",
       "DATE    = '2020-05-16'         / Creation UTC (CCCC-MM-DD) date of FITS header  \n",
       "COMMENT FITS (Flexible Image Transport System) format is defined in 'Astronomy  \n",
       "COMMENT and Astrophysics', volume 376, page 359; bibcode 2001A&A...376..359H    \n",
       "TELESCOP= 'IRIS    '           /                                                \n",
       "INSTRUME= 'SJI     '           /                                                \n",
       "DATA_LEV=              2.00000 /                                                \n",
       "LVL_NUM =              2.00000 /                                                \n",
       "VER_RF2 = 'L12-2019-08-08'     /                                                \n",
       "DATE_RF2= '2020-05-16T03:17:40.929' /                                           \n",
       "DATA_SRC=              1.51001 /                                                \n",
       "ORIGIN  = 'SDO     '           /                                                \n",
       "BLD_VERS= 'V8R6X   '           /                                                \n",
       "LUTID   =              4.00000 /                                                \n",
       "OBSID   = '3880106953'         /                                                \n",
       "OBS_DESC= 'Large sit-and-stare 0.3x120 1s  C II   Mg II h/k   Mg II w Deep x 4 '\n",
       "OBSLABEL= '        '           /                                                \n",
       "OBSTITLE= '        '           /                                                \n",
       "DATE_OBS= '2014-10-25T14:58:28.660' /                                           \n",
       "DATE_END= '2014-10-25T18:00:39.470' /                                           \n",
       "STARTOBS= '2014-10-25T14:58:28.560' /                                           \n",
       "ENDOBS  = '2014-10-25T18:00:52.640' /                                           \n",
       "OBSREP  =                  680 /                                                \n",
       "CAMERA  =                    2 /                                                \n",
       "STATUS  = 'Quicklook'          /                                                \n",
       "BTYPE   = 'Intensity'          /                                                \n",
       "BUNIT   = 'Corrected DN'       /                                                \n",
       "BSCALE  =                 0.25 /                                                \n",
       "BZERO   =                 7992 /                                                \n",
       "HLZ     =                    0 /                                                \n",
       "SAA     = '           0'       /                                                \n",
       "SAT_ROT =              90.0001 /                                                \n",
       "AECNOBS =                  496 /                                                \n",
       "AECNRAS =                  496 /                                                \n",
       "DSUN_OBS=          1.48751E+11 /                                                \n",
       "IAECEVFL= 'NO      '           /                                                \n",
       "IAECFLAG= 'YES     '           /                                                \n",
       "IAECFLFL= 'YES     '           /                                                \n",
       "TR_MODE = '        '           /                                                \n",
       "FOVY    =              128.755 /                                                \n",
       "FOVX    =              121.436 /                                                \n",
       "XCEN    =              406.296 /                                                \n",
       "YCEN    =             -318.077 /                                                \n",
       "SUMSPTRL=                    2 /                                                \n",
       "SUMSPAT =                    2 /                                                \n",
       "EXPTIME =              1.95448 /                                                \n",
       "EXPMIN  =              1.19959 /                                                \n",
       "EXPMAX  =              4.00036 /                                                \n",
       "DATAMEAN=              244.154 /                                                \n",
       "DATARMS =              623.067 /                                                \n",
       "DATAMEDN=              107.511 /                                                \n",
       "DATAMIN =             -1307.82 /                                                \n",
       "DATAMAX =              27386.0 /                                                \n",
       "DATAVALS=             84251614 /                                                \n",
       "MISSVALS=             11801786 /                                                \n",
       "NSATPIX =                    0 /                                                \n",
       "NSPIKES =                    0 /                                                \n",
       "TOTVALS =             96053400 /                                                \n",
       "PERCENTD=              87.7133 /                                                \n",
       "DATASKEW=              14.0517 /                                                \n",
       "DATAKURT=              326.167 /                                                \n",
       "DATAP01 =              6.42693 /                                                \n",
       "DATAP10 =              21.6518 /                                                \n",
       "DATAP25 =              51.5710 /                                                \n",
       "DATAP75 =              226.806 /                                                \n",
       "DATAP90 =              473.095 /                                                \n",
       "DATAP95 =              805.885 /                                                \n",
       "DATAP98 =              1603.11 /                                                \n",
       "DATAP99 =              2432.95 /                                                \n",
       "NEXP_PRP=              680.000 /                                                \n",
       "NEXP    =                  680 /                                                \n",
       "NEXPOBS =                 6120 /                                                \n",
       "NRASTERP=                    1 /                                                \n",
       "RASTYPDX=                    1 /                                                \n",
       "RASTYPNX=                    1 /                                                \n",
       "RASRPT  =                    1 /                                                \n",
       "RASNRPT =                    1 /                                                \n",
       "CADPL_AV=              16.1010 /                                                \n",
       "CADPL_DV=              0.00000 /                                                \n",
       "CADEX_AV=              16.0984 /                                                \n",
       "CADEX_DV=             0.136437 /                                                \n",
       "MISSOBS =                   11 /                                                \n",
       "MISSRAS =                    1 /                                                \n",
       "IPRPVER =        2.30999994278 /                                                \n",
       "IPRPPDBV=        10.0000000000 /                                                \n",
       "IPRPDVER=             20130925 /                                                \n",
       "IPRPBVER=             20141027 /                                                \n",
       "PC1_1   =     -0.0112803112715 /                                                \n",
       "PC1_2   =       0.999938607216 /                                                \n",
       "PC2_1   =      -0.999938607216 /                                                \n",
       "PC2_2   =     -0.0112803112715 /                                                \n",
       "PC3_1   =        0.00000000000 /                                                \n",
       "PC3_2   =        0.00000000000 /                                                \n",
       "NWIN    =                    1 /                                                \n",
       "TDET1   = 'SJI     '           /                                                \n",
       "TDESC1  = 'SJI_1330'           /                                                \n",
       "TWAVE1  =        1330.00000000 /                                                \n",
       "TWMIN1  =        1310.00000000 /                                                \n",
       "TWMAX1  =        1350.00000000 /                                                \n",
       "TDMEAN1 =              244.154 /                                                \n",
       "TDRMS1  =              623.067 /                                                \n",
       "TDMEDN1 =              107.511 /                                                \n",
       "TDMIN1  =             -1307.82 /                                                \n",
       "TDMAX1  =              27386.0 /                                                \n",
       "TDVALS1 =             84251614 /                                                \n",
       "TMISSV1 =             11801786 /                                                \n",
       "TSATPX1 =                    0 /                                                \n",
       "TSPIKE1 =                    0 /                                                \n",
       "TTOTV1  =             96053400 /                                                \n",
       "TPCTD1  =              87.7133 /                                                \n",
       "TDSKEW1 =              14.0517 /                                                \n",
       "TDKURT1 =              326.167 /                                                \n",
       "TDP01_1 =              6.42693 /                                                \n",
       "TDP10_1 =              21.6518 /                                                \n",
       "TDP25_1 =              51.5710 /                                                \n",
       "TDP75_1 =              226.806 /                                                \n",
       "TDP90_1 =              473.095 /                                                \n",
       "TDP95_1 =              805.885 /                                                \n",
       "TDP98_1 =              1603.11 /                                                \n",
       "TDP99_1 =              2432.95 /                                                \n",
       "TSR1    =                   79 /                                                \n",
       "TER1    =                  465 /                                                \n",
       "TSC1    =                   76 /                                                \n",
       "TEC1    =                  439 /                                                \n",
       "IPRPFV1 =                  121 /                                                \n",
       "IPRPGV1 =                    4 /                                                \n",
       "IPRPPV1 =                  121 /                                                \n",
       "CDELT1  =             0.332700 /                                                \n",
       "CDELT2  =             0.332700 /                                                \n",
       "CDELT3  =              16.0984 /                                                \n",
       "CRPIX1  =              183.000 /                                                \n",
       "CRPIX2  =              194.000 /                                                \n",
       "CRPIX3  =              340.000 /                                                \n",
       "CRVAL1  =              406.296 /                                                \n",
       "CRVAL2  =             -318.077 /                                                \n",
       "CRVAL3  =              5458.99 /                                                \n",
       "CTYPE1  = 'HPLN-TAN'           /                                                \n",
       "CTYPE2  = 'HPLT-TAN'           /                                                \n",
       "CTYPE3  = 'Time    '           /                                                \n",
       "CUNIT1  = 'arcsec  '           /                                                \n",
       "CUNIT2  = 'arcsec  '           /                                                \n",
       "CUNIT3  = 'seconds '           /                                                \n",
       "KEYWDDOC= 'http://www.lmsal.com/iris_science/irisfitskeywords.pdf' /            \n",
       "HISTORY iris_prep  Set 2792 saturated pixels to Inf                             \n",
       "HISTORY iris_prep  Dark v20130925; T=[-62.0,-62.0,-61.9,-62.3,1.1,0.7,0.5,0.7,1.\n",
       "HISTORY iris_prep  Flat fielded with recnum     121                             \n",
       "HISTORY iris_prep  Set permanently bad pixels to 0 prior to warping             \n",
       "HISTORY iris_prep_geowave_roi  ran with rec_num 4                               \n",
       "HISTORY iris_prep_geowave_roi  boxwarp set to 1                                 \n",
       "HISTORY iris_prep_geowave_roi  updated WCS parameters with iris_isp2wcs         \n",
       "HISTORY iris_prep  Used iris_mk_pointdb ver 10                                  \n",
       "HISTORY iris_prep       Fiducial midpoint shift X,Y [pix]:     -9.09    -7.96   \n",
       "HISTORY iris_prep  Pointing corr. w/AIA correl (solar x,y):    -1.87    -0.32   \n",
       "HISTORY iris_prep  Used INF_POLY_2D for warping                                 \n",
       "HISTORY iris_prep VERSION:  2.31                                                \n",
       "HISTORY iris_prep   ran on 20200516_084712                                      \n",
       "HISTORY level2  Version L12-2019-08-08                                          >"
      ]
     },
     "execution_count": 12,
     "metadata": {},
     "output_type": "execute_result"
    }
   ],
   "source": [
    "hdr_1330_ext0.keys"
   ]
  },
  {
   "cell_type": "code",
   "execution_count": 15,
   "metadata": {},
   "outputs": [
    {
     "name": "stdout",
     "output_type": "stream",
     "text": [
      "number of 1330A frames = 680\n",
      "number of 2832A frames = 680\n",
      "number of 2796A frames = 680\n"
     ]
    }
   ],
   "source": [
    "# numframes_1400 = hdr_1400_ext0['naxis3']\n",
    "numframes_1330 = hdr_1330_ext0['naxis3']\n",
    "numframes_2796 = hdr_2796_ext0['naxis3']\n",
    "numframes_2832 = hdr_2832_ext0['naxis3']\n",
    "\n",
    "# print(\"number of 1400A frames = %d\" %(numframes_1400))\n",
    "print(\"number of 1330A frames = %d\" %(numframes_1330))\n",
    "print(\"number of 2832A frames = %d\" %(numframes_2832))\n",
    "print(\"number of 2796A frames = %d\" %(numframes_2796))"
   ]
  },
  {
   "cell_type": "markdown",
   "metadata": {},
   "source": [
    "> - Lets look at what is inside the header ext 1 and 2\n",
    "> - These are a bit different, and tell us what index of the header file data (next set of cells) each parameter is held in"
   ]
  },
  {
   "cell_type": "code",
   "execution_count": 16,
   "metadata": {},
   "outputs": [
    {
     "data": {
      "text/plain": [
       "<bound method Header.keys of XTENSION= 'IMAGE   '           / IMAGE extension                                \n",
       "BITPIX  =                  -64 / Number of bits per data pixel                  \n",
       "NAXIS   =                    2 / Number of data axes                            \n",
       "NAXIS1  =                   31 /                                                \n",
       "NAXIS2  =                  680 /                                                \n",
       "PCOUNT  =                    0 / No Group Parameters                            \n",
       "GCOUNT  =                    1 / One Data Group                                 \n",
       "TIME    =                    0 /time of each exposure in s after start of OBS (r\n",
       "PZTX    =                    1 /PZTX of each exposure in arcsec (rowindex)      \n",
       "PZTY    =                    2 /PZTY of each exposure in arcsec (rowindex)      \n",
       "EXPTIMES=                    3 /SJI Exposure duration of each exposure in s (row\n",
       "SLTPX1IX=                    4 /Slit center in X of each exposure in window-pixe\n",
       "SLTPX2IX=                    5 /Slit center in Y of each exposure in window-pixe\n",
       "SUMSPTRS=                    6 /SJI spectral summing (rowindex)                 \n",
       "SUMSPATS=                    7 /SJI spatial summing (rowindex)                  \n",
       "DSRCSIX =                    8 /SJI data source level (rowindex)                \n",
       "LUTIDS  =                    9 /SJI LUT ID (rowindex)                           \n",
       "XCENIX  =                   10 /XCEN (rowindex)                                 \n",
       "YCENIX  =                   11 /YCEN (rowindex)                                 \n",
       "OBS_VRIX=                   12 /Speed of observer in radial direction (rowindex)\n",
       "OPHASEIX=                   13 /Orbital phase (rowindex)                        \n",
       "PC1_1IX =                   14 /PC1_1 (rowindex)                                \n",
       "PC1_2IX =                   15 /PC1_2 (rowindex)                                \n",
       "PC2_1IX =                   16 /PC2_1 (rowindex)                                \n",
       "PC2_2IX =                   17 /PC2_2 (rowindex)                                \n",
       "PC3_1IX =                   18 /PC3_1 (rowindex)                                \n",
       "PC3_2IX =                   19 /PC3_2 (rowindex)                                \n",
       "IT01PSJI=                   20 /SJI PM Temperature (for pointing) (rowindex)    \n",
       "IT06TSJI=                   21 /SJI MidTel Temperature (for pointing) (rowindex)\n",
       "IT14SSJI=                   22 /SJI Spectrograph +X Temperature (for wavelength)\n",
       "IT15SSJI=                   23 /SJI Spectrograph +Y Temperature (for wavelength)\n",
       "IT16SSJI=                   24 /SJI Spectrograph -X Temperature (for wavelength)\n",
       "IT17SSJI=                   25 /SJI Spectrograph -Y Temperature (for wavelength)\n",
       "IT18SSJI=                   26 /SJI Spectrograph +Z Temperature (for wavelength)\n",
       "IT19SSJI=                   27 /SJI Spectrograph -Z Temperature (for wavelength)\n",
       "POFFXSJI=                   28 /SJI X (spectral direction) shift in pixels (rowi\n",
       "POFFYSJI=                   29 /SJI Y (spatial direction) shift in pixels (rowin\n",
       "POFFFSJI=                   30 /SJI Flag indicating source of X and Y offsets (r>"
      ]
     },
     "execution_count": 16,
     "metadata": {},
     "output_type": "execute_result"
    }
   ],
   "source": [
    "hdr_1330_ext1.keys"
   ]
  },
  {
   "cell_type": "code",
   "execution_count": 17,
   "metadata": {},
   "outputs": [
    {
     "data": {
      "text/plain": [
       "<bound method Header.keys of XTENSION= 'TABLE   '           / ASCII table extension                          \n",
       "BITPIX  =                    8 / 8 bit bytes                                    \n",
       "NAXIS   =                    2 / 2-dimensional ASCII table                      \n",
       "NAXIS1  =                  145 / Number of positions along axis 1               \n",
       "NAXIS2  =                  680 / Number of positions along axis 2               \n",
       "PCOUNT  =                    0 / Size of special data area                      \n",
       "GCOUNT  =                    1 / one data group (required keyword)              \n",
       "TFIELDS =                    5 / Number of fields in each row                   \n",
       "TBCOL1  =                    1 /                                                \n",
       "TFORM1  = 'A10     '           /                                                \n",
       "TTYPE1  = 'FRMID   '           /                                                \n",
       "FRMID   =                    0 /FRM ID of each exposure (rowindex)              \n",
       "LFRMID  =                   10 /Length of FRM ID (rows)                         \n",
       "TBCOL2  =                   11 /                                                \n",
       "TFORM2  = 'A10     '           /                                                \n",
       "TTYPE2  = 'SJIFDBID'           /                                                \n",
       "FDBIDS  =                   10 /SJI FDB ID of each exposure (rowindex)          \n",
       "LFDBIDS =                   10 /Length of SJI FDB ID (rows)                     \n",
       "TBCOL3  =                   21 /                                                \n",
       "TFORM3  = 'A4      '           /                                                \n",
       "TTYPE3  = 'SJICRSID'           /                                                \n",
       "CRSIDS  =                   20 /SJI CRS ID of each exposure (rowindex)          \n",
       "LCRSIDS =                    4 /Length of SJI CRS ID (rows)                     \n",
       "TBCOL4  =                   25 /                                                \n",
       "TFORM4  = 'A66     '           /                                                \n",
       "TTYPE4  = 'SJIfilename'        /                                                \n",
       "FILES   =                   24 /SJI filename of each exposure (rowindex)        \n",
       "LFILES  =                   66 /Length of SJI filename (rows)                   \n",
       "TBCOL5  =                   91 /                                                \n",
       "TFORM5  = 'A55     '           /                                                \n",
       "TTYPE5  = 'SJI Comma-delimited string list of temperatures used by iris_make_da'\n",
       "PDTMPSJI=                   90 /SJI string list of temperatures of each exposure\n",
       "LPDTMSJI=                   55 /SJI Length of string list (rows)                >"
      ]
     },
     "execution_count": 17,
     "metadata": {},
     "output_type": "execute_result"
    }
   ],
   "source": [
    "hdr_1330_ext2.keys"
   ]
  },
  {
   "cell_type": "markdown",
   "metadata": {},
   "source": [
    "> - Now we grab the actual values from the header files"
   ]
  },
  {
   "cell_type": "code",
   "execution_count": 19,
   "metadata": {},
   "outputs": [
    {
     "name": "stdout",
     "output_type": "stream",
     "text": [
      "Creating temporary file...  /var/folders/t8/737ksbrs7wscy5j_wy_320t40000gp/T/tmpg578fmis\n",
      "Creating temporary file...  /var/folders/t8/737ksbrs7wscy5j_wy_320t40000gp/T/tmp1bn10kg8\n",
      "Creating temporary file...  /var/folders/t8/737ksbrs7wscy5j_wy_320t40000gp/T/tmpjbkol1m3\n",
      "Creating temporary file...  /var/folders/t8/737ksbrs7wscy5j_wy_320t40000gp/T/tmp9fzgipub\n",
      "Creating temporary file...  /var/folders/t8/737ksbrs7wscy5j_wy_320t40000gp/T/tmpw1aqrj4_\n",
      "Creating temporary file...  /var/folders/t8/737ksbrs7wscy5j_wy_320t40000gp/T/tmps_ustlmd\n"
     ]
    }
   ],
   "source": [
    "##\n",
    "## Grab the data for the header extension 1\n",
    "##\n",
    "# data_1400_ext1 = iris_lmsalpy.extract_irisL2data.only_data(filename_1400, extension=1)\n",
    "data_1330_ext1 = iris_lmsalpy.extract_irisL2data.only_data(filename_1330, extension=1)\n",
    "data_2832_ext1 = iris_lmsalpy.extract_irisL2data.only_data(filename_2832, extension=1)\n",
    "data_2796_ext1 = iris_lmsalpy.extract_irisL2data.only_data(filename_2796, extension=1)\n",
    "\n",
    "\n",
    "##\n",
    "## Grab the data for the header extension 2\n",
    "##\n",
    "# data_1400_ext2 = iris_lmsalpy.extract_irisL2data.only_data(filename_1400, extension=2)\n",
    "data_1330_ext2 = iris_lmsalpy.extract_irisL2data.only_data(filename_1330, extension=2)\n",
    "data_2832_ext2 = iris_lmsalpy.extract_irisL2data.only_data(filename_2832, extension=2)\n",
    "data_2796_ext2 = iris_lmsalpy.extract_irisL2data.only_data(filename_2796, extension=2)"
   ]
  },
  {
   "cell_type": "markdown",
   "metadata": {},
   "source": [
    "***Now we assign some of those values to variables that we want to use later***"
   ]
  },
  {
   "cell_type": "markdown",
   "metadata": {},
   "source": [
    "> - number of exposures (frames) for each filter"
   ]
  },
  {
   "cell_type": "code",
   "execution_count": 20,
   "metadata": {},
   "outputs": [],
   "source": [
    "##\n",
    "## Number of exposures\n",
    "##\n",
    "# nexp_1400 = hdr_1400_ext0['naxis3']\n",
    "nexp_1330 = hdr_1330_ext0['naxis3']\n",
    "nexp_2832 = hdr_2832_ext0['naxis3']\n",
    "nexp_2796 = hdr_2796_ext0['naxis3']"
   ]
  },
  {
   "cell_type": "markdown",
   "metadata": {},
   "source": [
    "> - number of pixels in the x- and y- direction (usually this is also x- and y- on the Sun, but sometimes the spacecraft is rotated by 45 or 90 degrees)"
   ]
  },
  {
   "cell_type": "code",
   "execution_count": 21,
   "metadata": {},
   "outputs": [],
   "source": [
    "##\n",
    "## Number of x and y pixels\n",
    "##\n",
    "# nx_1400 = hdr_1400_ext0['naxis1']\n",
    "nx_1330 = hdr_1330_ext0['naxis1']\n",
    "nx_2832 = hdr_2832_ext0['naxis1']\n",
    "nx_2796 = hdr_2796_ext0['naxis1']\n",
    "\n",
    "# ny_1400 = hdr_1400_ext0['naxis2']\n",
    "ny_1330 = hdr_1330_ext0['naxis2']\n",
    "ny_2832 = hdr_2832_ext0['naxis2']\n",
    "ny_2796 = hdr_2796_ext0['naxis2']"
   ]
  },
  {
   "cell_type": "markdown",
   "metadata": {},
   "source": [
    "> - The exposure time for each exposure (how long was the shutter on the camera open). This is sometimes constant, but usually there is some level of variation. This variation may be small or if the automatic flare detection flag was triggered the exposure time can drop suddenely (in flares the exposure time might drop in order to not saturate that camera).\n",
    "> - We know what index this is held in by looking at the ext1 header info above. \n",
    "> - Lets plot the exposure times to see how much they vary."
   ]
  },
  {
   "cell_type": "code",
   "execution_count": 22,
   "metadata": {},
   "outputs": [],
   "source": [
    "##\n",
    "## Grab exposure times \n",
    "##\n",
    "# exptimes_1400 = data_1400_ext1[:,3]\n",
    "exptimes_1330 = data_1330_ext1[:,3]\n",
    "exptimes_2832 = data_2832_ext1[:,3]\n",
    "exptimes_2796 = data_2796_ext1[:,3]"
   ]
  },
  {
   "cell_type": "code",
   "execution_count": 23,
   "metadata": {},
   "outputs": [
    {
     "data": {
      "image/png": "[encoded data removed]",
      "text/plain": [
       "<Figure size 432x288 with 1 Axes>"
      ]
     },
     "metadata": {
      "needs_background": "light"
     },
     "output_type": "display_data"
    }
   ],
   "source": [
    "%matplotlib inline\n",
    "# plt.plot(exptimes_1400, color = 'black', label = '1400', linestyle = '-')\n",
    "plt.plot(exptimes_1330, color = 'tomato', label = '1330',linestyle = '--')\n",
    "plt.plot(exptimes_2832, color = 'forestgreen', label = '2832', linestyle = ':')\n",
    "plt.plot(exptimes_2796, color = 'dodgerblue', label = '2796', linestyle = '-.')\n",
    "plt.show()"
   ]
  },
  {
   "cell_type": "markdown",
   "metadata": {},
   "source": [
    "---\n",
    "### <b style=\"color:blue\"> Correct for Exposure time </b>\n",
    "\n",
    "> - Since exposure time varies over time, we want to make sure that if we compare different frames we comparing apples-to-apples. \n",
    "> - The data are in Counts, often referred to as Data Numbers (DN).\n",
    "> - Dividing by the exposure time (how long the telescope was looking for) we can get DN/s, which can be more directly compared from frame to frame."
   ]
  },
  {
   "cell_type": "code",
   "execution_count": 25,
   "metadata": {},
   "outputs": [],
   "source": [
    "##\n",
    "## Correct for Exposure Times\n",
    "##\n",
    "# sji_1400.SJI['SJI_1400'].data/=exptimes_1400\n",
    "sji_1330.SJI['SJI_1330'].data/=exptimes_1330\n",
    "sji_2832.SJI['SJI_2832'].data/=exptimes_2832\n",
    "sji_2796.SJI['SJI_2796'].data/=exptimes_2796"
   ]
  },
  {
   "cell_type": "markdown",
   "metadata": {},
   "source": [
    "---\n",
    "### <b style=\"color:blue\"> Lets use the in-built iris_lmsalpy methods for quicklook </b>\n",
    "\n",
    "> - First set some limits (trial and error, you'll probably have to fiddle with the intensity ranges to clip).\n",
    "> - Then run the quicklook method, which opens an interactive window (check Alberto's docs for some keystroke commands to manually change the intensity ranges etc.,)\n",
    "      "
   ]
  },
  {
   "cell_type": "code",
   "execution_count": 26,
   "metadata": {},
   "outputs": [],
   "source": [
    "##\n",
    "## Some stuff for plotting\n",
    "##\n",
    "# sji_1400.SJI['SJI_1400'].show_slit = True\n",
    "# sji_1400.SJI['SJI_1400'].clip_ima = [0, 1000]\n",
    "\n",
    "sji_1330.SJI['SJI_1330'].show_slit = False\n",
    "sji_1330.SJI['SJI_1330'].clip_ima = [0, 200]\n",
    "\n",
    "sji_2832.SJI['SJI_2832'].show_slit = False\n",
    "sji_2832.SJI['SJI_2832'].clip_ima = [0, 2500]\n",
    "\n",
    "sji_2796.SJI['SJI_2796'].show_slit = True\n",
    "sji_2796.SJI['SJI_2796'].clip_ima = [0, 2500]"
   ]
  },
  {
   "cell_type": "code",
   "execution_count": 28,
   "metadata": {},
   "outputs": [],
   "source": [
    "#\n",
    "# Quick look plotting\n",
    "#\n",
    "%matplotlib tk\n",
    "sji_2796.quick_look()\n",
    "\n",
    "## You might have to run this cell twice when loading the \n",
    "#tk backend to make it plot in an interactive window"
   ]
  },
  {
   "cell_type": "code",
   "execution_count": null,
   "metadata": {},
   "outputs": [],
   "source": [
    "#\n",
    "# Quick look plotting\n",
    "#\n",
    "#%matplotlib tk\n",
    "sji_1330.quick_look()"
   ]
  },
  {
   "cell_type": "code",
   "execution_count": null,
   "metadata": {},
   "outputs": [],
   "source": []
  },
  {
   "cell_type": "markdown",
   "metadata": {},
   "source": [
    "---\n",
    "### <b style=\"color:blue\"> Grab the slit locations, in arcseconds </b>\n",
    "\n",
    "> - Uses a few variables from the header files, we can discuss what those variables are, or check the header ext info"
   ]
  },
  {
   "cell_type": "code",
   "execution_count": 29,
   "metadata": {},
   "outputs": [],
   "source": [
    "##\n",
    "## Slit location in arcsecs\n",
    "## \n",
    "\n",
    "# lcslit_1400 = ( (sji_1400.SJI['SJI_1400']['SLTPX1IX'] - np.repeat(hdr_1400_ext0['CRPIX1'],nexp_1400)) * \n",
    "#           hdr_1400_ext0['CDELT1'] + \n",
    "#           sji_1400.SJI['SJI_1400'].XCENIX)\n",
    "lcslit_1330 = ( (sji_1330.SJI['SJI_1330']['SLTPX1IX'] - np.repeat(hdr_1330_ext0['CRPIX1'],nexp_1330)) * \n",
    "          hdr_1330_ext0['CDELT1'] + \n",
    "          sji_1330.SJI['SJI_1330'].XCENIX)\n",
    "lcslit_2832 = ( (sji_2832.SJI['SJI_2832']['SLTPX1IX'] - np.repeat(hdr_2832_ext0['CRPIX1'],nexp_2832)) * \n",
    "          hdr_2832_ext0['CDELT1'] + \n",
    "          sji_2832.SJI['SJI_2832'].XCENIX)\n",
    "lcslit_2796 = ( (sji_2796.SJI['SJI_2796']['SLTPX1IX'] - np.repeat(hdr_2796_ext0['CRPIX1'],nexp_2796)) * \n",
    "          hdr_2796_ext0['CDELT1'] + \n",
    "          sji_2796.SJI['SJI_2796'].XCENIX)"
   ]
  },
  {
   "cell_type": "markdown",
   "metadata": {},
   "source": [
    "---\n",
    "### <b style=\"color:blue\"> If you want to save the data and header info for use later </b>\n",
    "\n",
    "> - Saves the data, and header info, in a dictionary that you can load in another notebook for analysis\n",
    "> - Doing this a lot can make some pretty large files... some people like just running through the above each time they analyse the SJI, but I prefer to save them and load them in later for future analysis\n",
    "> - This saves them all in one big file, so all the SJI wavelengths in a single place, but you can modify the code to save each filter separately if you wish."
   ]
  },
  {
   "cell_type": "code",
   "execution_count": 30,
   "metadata": {},
   "outputs": [],
   "source": [
    "##\n",
    "## Create a dictionary in which to save the data\n",
    "##\n",
    "sji_dict = {\n",
    "            'sji_2832':sji_2832.SJI['SJI_2832']['data'], \n",
    "            'sji_1330':sji_1330.SJI['SJI_1330']['data'],\n",
    "#             'sji_1400':sji_1400.SJI['SJI_1400']['data'],\n",
    "            'sji_2796':sji_2796.SJI['SJI_2796']['data'],\n",
    "            'xcen_2832':sji_2832.SJI['SJI_2832'].XCENIX,\n",
    "            'xcen_1330':sji_1330.SJI['SJI_1330'].XCENIX,\n",
    "#             'xcen_1400':sji_1400.SJI['SJI_1400'].XCENIX,\n",
    "            'xcen_2796':sji_2796.SJI['SJI_2796'].XCENIX,\n",
    "            'ycen_2832':sji_2832.SJI['SJI_2832'].YCENIX,\n",
    "            'ycen_1330':sji_1330.SJI['SJI_1330'].YCENIX,\n",
    "#             'ycen_1400':sji_1400.SJI['SJI_1400'].YCENIX,\n",
    "            'ycen_2796':sji_2796.SJI['SJI_2796'].YCENIX,\n",
    "            'SLTPX1IX_2832':sji_2832.SJI['SJI_2832']['SLTPX1IX'],\n",
    "            'SLTPX1IX_1330':sji_1330.SJI['SJI_1330']['SLTPX1IX'],\n",
    "#             'SLTPX1IX_1400':sji_1400.SJI['SJI_1400']['SLTPX1IX'],\n",
    "            'SLTPX1IX_2796':sji_2796.SJI['SJI_2796']['SLTPX1IX'],\n",
    "            'lcslit_2832':lcslit_2832,\n",
    "            'lcslit_1330':lcslit_1330,\n",
    "#             'lcslit_1400':lcslit_1400,\n",
    "            'lcslit_2796':lcslit_2796,\n",
    "            'hdr_2832_ext0':hdr_2832_ext0,\n",
    "            'hdr_1330_ext0':hdr_1330_ext0,\n",
    "#             'hdr_1400_ext0':hdr_1400_ext0,\n",
    "            'hdr_2796_ext0':hdr_2796_ext0,\n",
    "            'time_2832':sji_2832.SJI['SJI_2832'].date_time_acq_ok,\n",
    "            'time_1330':sji_1330.SJI['SJI_1330'].date_time_acq_ok,\n",
    "#             'time_1400':sji_1400.SJI['SJI_1400'].date_time_acq_ok,\n",
    "            'time_2796':sji_2796.SJI['SJI_2796'].date_time_acq_ok,\n",
    "            'readme':'SJI data has been exposure corrected'}\n",
    "file_sji = 'IRIS_SJI_2014_Oct_25_exptimecorr.pkl'\n",
    "with open(file_sji, 'wb') as output:  # Overwrites any existing file.\n",
    "    pickle.dump(sji_dict, output, pickle.HIGHEST_PROTOCOL)\n",
    "            "
   ]
  },
  {
   "cell_type": "code",
   "execution_count": null,
   "metadata": {},
   "outputs": [],
   "source": [
    "##\n",
    "## Set the data part to zero, to save space, and then save the object with header info\n",
    "##\n",
    "# sji_2832.SJI['SJI_2832']['data'][:,:,:] = 0\n",
    "# sji_1330.SJI['SJI_1330']['data'][:,:,:] = 0\n",
    "# sji_1400.SJI['SJI_1400']['data'][:,:,:] = 0\n",
    "# sji_1400.SJI['SJI_2796']['data'][:,:,:] = 0\n",
    "\n",
    "\n",
    "# iris_lmsalpy.extract_irisL2data.save(sji_2832, filename = 'SJI2832_2014_Sept_10')\n",
    "# iris_lmsalpy.extract_irisL2data.save(sji_1330, filename = 'SJI1330_2014_Sept_10')\n",
    "# iris_lmsalpy.extract_irisL2data.save(sji_1400, filename = 'SJI1400_2014_Sept_10')\n",
    "# iris_lmsalpy.extract_irisL2data.save(sji_2796, filename = 'SJI2796_2014_Sept_10')"
   ]
  },
  {
   "cell_type": "markdown",
   "metadata": {},
   "source": [
    "> - This is the command to read the pickle (pkl) file back into memory"
   ]
  },
  {
   "cell_type": "code",
   "execution_count": 87,
   "metadata": {},
   "outputs": [],
   "source": [
    "file_sji = 'IRIS_SJI_2014_Oct_25_exptimecorr.pkl'\n",
    "with open(file_sji, 'rb') as output:  \n",
    "    sji_dict = pickle.load(output)"
   ]
  },
  {
   "cell_type": "code",
   "execution_count": 88,
   "metadata": {},
   "outputs": [
    {
     "data": {
      "text/plain": [
       "dict_keys(['sji_2832', 'sji_1330', 'sji_2796', 'xcen_2832', 'xcen_1330', 'xcen_2796', 'ycen_2832', 'ycen_1330', 'ycen_2796', 'SLTPX1IX_2832', 'SLTPX1IX_1330', 'SLTPX1IX_2796', 'lcslit_2832', 'lcslit_1330', 'lcslit_2796', 'hdr_2832_ext0', 'hdr_1330_ext0', 'hdr_2796_ext0', 'time_2832', 'time_1330', 'time_2796', 'readme'])"
      ]
     },
     "execution_count": 88,
     "metadata": {},
     "output_type": "execute_result"
    }
   ],
   "source": [
    "sji_dict.keys()"
   ]
  },
  {
   "cell_type": "markdown",
   "metadata": {},
   "source": [
    "---\n",
    "### <b style=\"color:blue\"> Look at selecting only certain times</b>\n",
    "\n"
   ]
  },
  {
   "cell_type": "markdown",
   "metadata": {},
   "source": [
    "> - Printing the times, we can see that sometimes the data is corrupted. \n",
    "> - Lets remove those, if they are \n",
    "> - I SHOW 2832 HERE BUT YOU CAN COPY FOR THE OTHER SJI WINDOWS"
   ]
  },
  {
   "cell_type": "code",
   "execution_count": 89,
   "metadata": {},
   "outputs": [
    {
     "data": {
      "text/plain": [
       "(387, 365, 680)"
      ]
     },
     "execution_count": 89,
     "metadata": {},
     "output_type": "execute_result"
    }
   ],
   "source": [
    "### SHAPE BEFORE REMOVING INDICES\n",
    "sji_dict['sji_2832'].shape"
   ]
  },
  {
   "cell_type": "code",
   "execution_count": 92,
   "metadata": {},
   "outputs": [
    {
     "data": {
      "text/plain": [
       "array(['2014-10-25 14:58:36.42', '2014-10-25 14:58:52.52',\n",
       "       '2014-10-25 14:59:08.61', '2014-10-25 14:59:24.70',\n",
       "       '2014-10-25 14:59:56.89', '2014-10-25 15:00:12.98',\n",
       "       '2014-10-25 15:00:29.08', '2014-10-25 15:00:45.17',\n",
       "       '2014-10-25 15:01:01.27', '2014-10-25 15:01:17.36',\n",
       "       '2014-10-25 15:01:33.45', '2014-10-25 15:01:49.55',\n",
       "       '2014-10-25 15:02:05.64', '2014-10-25 15:02:21.73',\n",
       "       '2014-10-25 15:02:37.83', '2014-10-25 15:02:53.92',\n",
       "       '2014-10-25 15:03:10.02', '2014-10-25 15:03:26.11',\n",
       "       '2014-10-25 15:03:42.20', '2014-10-25 15:03:58.30',\n",
       "       '2014-10-25 15:04:14.39', '2014-10-25 15:04:30.48',\n",
       "       '2014-10-25 15:04:46.58', '2014-10-25 15:05:02.67',\n",
       "       '2014-10-25 15:05:18.77', '2014-10-25 15:05:34.86',\n",
       "       '2014-10-25 15:05:50.95', '2014-10-25 15:06:07.05',\n",
       "       '2014-10-25 15:06:23.14', '2014-10-25 15:06:39.23',\n",
       "       '2014-10-25 15:06:55.33', '2014-10-25 15:07:11.42',\n",
       "       '2014-10-25 15:07:27.52', '2014-10-25 15:07:43.61',\n",
       "       '2014-10-25 15:07:59.70', '2014-10-25 15:08:15.80',\n",
       "       '2014-10-25 15:08:31.89', '2014-10-25 15:08:47.98',\n",
       "       '2014-10-25 15:09:04.08', '2014-10-25 15:09:20.17',\n",
       "       '2014-10-25 15:09:36.27', '2014-10-25 15:09:52.36',\n",
       "       '2014-10-25 15:10:08.45', '2014-10-25 15:10:24.55',\n",
       "       '2014-10-25 15:10:40.64', '2014-10-25 15:10:56.73',\n",
       "       '2014-10-25 15:11:12.83', '2014-10-25 15:11:28.92',\n",
       "       '2014-10-25 15:11:45.02', '2014-10-25 15:12:01.11',\n",
       "       '2014-10-25 15:12:17.20', '2014-10-25 15:12:33.30',\n",
       "       '2014-10-25 15:12:49.39', '2014-10-25 15:13:05.48',\n",
       "       '2014-10-25 15:13:21.58', '2014-10-25 15:13:37.67',\n",
       "       '2014-10-25 15:13:53.77', '2014-10-25 15:14:09.86',\n",
       "       '2014-10-25 15:14:25.95', '2014-10-25 15:14:42.05',\n",
       "       '2014-10-25 15:14:58.14', '2014-10-25 15:15:14.24',\n",
       "       '2014-10-25 15:15:30.33', '2014-10-25 15:15:46.42',\n",
       "       '2014-10-25 15:16:02.52', '2014-10-25 15:16:18.61',\n",
       "       '2014-10-25 15:16:34.70', '2014-10-25 15:16:50.80',\n",
       "       '2014-10-25 15:17:06.89', '2014-10-25 15:17:22.98',\n",
       "       '2014-10-25 15:17:39.08', '2014-10-25 15:17:55.17',\n",
       "       '2014-10-25 15:18:11.27', '2014-10-25 15:18:27.36',\n",
       "       '2014-10-25 15:18:43.45', '2014-10-25 15:18:59.55',\n",
       "       '2014-10-25 15:19:15.64', '2014-10-25 15:19:31.73',\n",
       "       '2014-10-25 15:19:47.83', '2014-10-25 15:20:03.92',\n",
       "       '2014-10-25 15:20:20.02', '2014-10-25 15:20:36.11',\n",
       "       '2014-10-25 15:20:52.20', '2014-10-25 15:21:08.30',\n",
       "       '2014-10-25 15:21:40.48', '2014-10-25 15:21:56.58',\n",
       "       '2014-10-25 15:22:12.67', '2014-10-25 15:22:28.77',\n",
       "       '2014-10-25 15:22:44.86', '2014-10-25 15:23:00.95',\n",
       "       '2014-10-25 15:23:17.05', '2014-10-25 15:23:33.14',\n",
       "       '2014-10-25 15:23:49.23', '2014-10-25 15:24:05.33',\n",
       "       '2014-10-25 15:24:21.42', '2014-10-25 15:24:37.52',\n",
       "       '2014-10-25 15:25:09.70', '2014-10-25 15:25:25.80',\n",
       "       '2014-10-25 15:25:41.89', '2014-10-25 15:25:57.98',\n",
       "       '2014-10-25 15:26:14.08', '2014-10-25 15:26:30.17',\n",
       "       '2014-10-25 15:26:46.27', '2014-10-25 15:27:02.36',\n",
       "       '2014-10-25 15:27:18.45', '2014-10-25 15:27:34.55',\n",
       "       '2014-10-25 15:27:50.64', '2014-10-25 15:28:06.73',\n",
       "       '2014-10-25 15:28:22.83', '2014-10-25 15:28:38.92',\n",
       "       '2014-10-25 15:28:55.02', '2014-10-25 15:29:11.11',\n",
       "       '2014-10-25 15:29:27.20', '2014-10-25 15:29:43.30',\n",
       "       '2014-10-25 15:29:59.39', '2014-10-25 15:30:15.48',\n",
       "       '2014-10-25 15:30:31.58', '2014-10-25 15:30:47.67',\n",
       "       '2014-10-25 15:31:03.77', '2014-10-25 15:31:19.86',\n",
       "       '2014-10-25 15:31:35.95', '2014-10-25 15:31:52.05',\n",
       "       '2014-10-25 15:32:08.14', '2014-10-25 15:32:24.23',\n",
       "       '2014-10-25 15:32:40.33', '2014-10-25 15:32:56.42',\n",
       "       '2014-10-25 15:33:12.52', '2014-10-25 15:33:28.61',\n",
       "       '2014-10-25 15:33:44.70', '2014-10-25 15:34:00.80',\n",
       "       '2014-10-25 15:34:16.89', '2014-10-25 15:34:32.98',\n",
       "       '2014-10-25 15:34:49.08', '2014-10-25 15:35:05.17',\n",
       "       '2014-10-25 15:35:21.27', '2014-10-25 15:35:37.36',\n",
       "       '2014-10-25 15:35:53.45', '2014-10-25 15:36:09.55',\n",
       "       '2014-10-25 15:36:25.64', '2014-10-25 15:36:41.73',\n",
       "       '2014-10-25 15:36:57.83', '2014-10-25 15:37:13.92',\n",
       "       '2014-10-25 15:37:30.02', '2014-10-25 15:37:46.11',\n",
       "       '2014-10-25 15:38:02.20', '2014-10-25 15:38:18.30',\n",
       "       '2014-10-25 15:38:34.39', '2014-10-25 15:38:50.48',\n",
       "       '2014-10-25 15:39:06.58', '2014-10-25 15:39:22.67',\n",
       "       '2014-10-25 15:39:38.77', '2014-10-25 15:39:54.86',\n",
       "       '2014-10-25 15:40:10.95', '2014-10-25 15:40:27.05',\n",
       "       '2014-10-25 15:40:43.14', '2014-10-25 15:40:59.23',\n",
       "       '2014-10-25 15:41:15.33', '2014-10-25 15:41:31.42',\n",
       "       '2014-10-25 15:41:47.52', '2014-10-25 15:42:03.61',\n",
       "       '2014-10-25 15:42:19.70', '2014-10-25 15:42:35.80',\n",
       "       '2014-10-25 15:42:51.89', '2014-10-25 15:43:07.98',\n",
       "       '2014-10-25 15:43:24.08', '2014-10-25 15:43:40.17',\n",
       "       '2014-10-25 15:43:56.27', '2014-10-25 15:44:12.36',\n",
       "       '2014-10-25 15:44:28.45', '2014-10-25 15:44:44.55',\n",
       "       '2014-10-25 15:45:00.64', '2014-10-25 15:45:16.73',\n",
       "       '2014-10-25 15:45:32.83', '2014-10-25 15:45:48.92',\n",
       "       '2014-10-25 15:46:05.02', '2014-10-25 15:46:21.11',\n",
       "       '2014-10-25 15:46:37.20', '2014-10-25 15:46:53.30',\n",
       "       '2014-10-25 15:47:09.39', '2014-10-25 15:47:25.48',\n",
       "       '2014-10-25 15:47:41.58', '2014-10-25 15:47:57.67',\n",
       "       '2014-10-25 15:48:13.77', '2014-10-25 15:48:29.86',\n",
       "       '2014-10-25 15:48:45.95', '2014-10-25 15:49:02.05',\n",
       "       '2014-10-25 15:49:18.14', '2014-10-25 15:49:34.24',\n",
       "       '2014-10-25 15:49:50.33', '2014-10-25 15:50:06.42',\n",
       "       '2014-10-25 15:50:22.52', '2014-10-25 15:50:38.61',\n",
       "       '2014-10-25 15:50:54.70', '2014-10-25 15:51:10.80',\n",
       "       '2014-10-25 15:51:26.89', '2014-10-25 15:51:42.99',\n",
       "       '2014-10-25 15:51:59.08', '2014-10-25 15:52:15.17',\n",
       "       '2014-10-25 15:52:31.27', '2014-10-25 15:52:47.36',\n",
       "       '2014-10-25 15:53:03.45', '2014-10-25 15:53:19.55',\n",
       "       '2014-10-25 15:53:35.64', '2014-10-25 15:53:51.74',\n",
       "       '2014-10-25 15:54:07.83', '2014-10-25 15:54:23.92',\n",
       "       '2014-10-25 15:54:40.02', '2014-10-25 15:54:56.11',\n",
       "       '2014-10-25 15:55:12.20', '2014-10-25 15:55:28.30',\n",
       "       '2014-10-25 15:55:44.39', '2014-10-25 15:56:00.49',\n",
       "       '2014-10-25 15:56:16.58', '2014-10-25 15:56:32.67',\n",
       "       '2014-10-25 15:56:48.77', '2014-10-25 15:57:04.86',\n",
       "       '2014-10-25 15:57:20.95', '2014-10-25 15:57:37.05',\n",
       "       '2014-10-25 15:57:53.14', '2014-10-25 15:58:09.24',\n",
       "       '2014-10-25 15:58:25.33', '2014-10-25 15:58:41.42',\n",
       "       '2014-10-25 15:58:57.52', '2014-10-25 15:59:13.61',\n",
       "       '2014-10-25 15:59:29.70', '2014-10-25 15:59:45.80',\n",
       "       '2014-10-25 16:00:01.89', '2014-10-25 16:00:17.99',\n",
       "       '2014-10-25 16:00:34.08', '2014-10-25 16:00:50.17',\n",
       "       '2014-10-25 16:01:06.27', '2014-10-25 16:01:22.36',\n",
       "       '2014-10-25 16:01:38.45', '2014-10-25 16:01:54.55',\n",
       "       '2014-10-25 16:02:10.64', '2014-10-25 16:02:26.74',\n",
       "       '2014-10-25 16:02:42.83', '2014-10-25 16:02:58.92',\n",
       "       '2014-10-25 16:03:15.02', '2014-10-25 16:03:31.11',\n",
       "       '2014-10-25 16:03:47.20', '2014-10-25 16:04:03.30',\n",
       "       '2014-10-25 16:04:19.39', '2014-10-25 16:04:35.48',\n",
       "       '2014-10-25 16:04:51.58', '2014-10-25 16:05:07.67',\n",
       "       '2014-10-25 16:05:23.77', '2014-10-25 16:05:39.86',\n",
       "       '2014-10-25 16:05:55.95', '2014-10-25 16:06:12.05',\n",
       "       '2014-10-25 16:06:28.14', '2014-10-25 16:06:44.24',\n",
       "       '2014-10-25 16:07:00.33', '2014-10-25 16:07:16.42',\n",
       "       '2014-10-25 16:07:32.52', '2014-10-25 16:07:48.61',\n",
       "       '2014-10-25 16:08:04.70', '2014-10-25 16:08:20.80',\n",
       "       '2014-10-25 16:08:36.89', '2014-10-25 16:08:52.99',\n",
       "       '2014-10-25 16:09:09.08', '2014-10-25 16:09:25.17',\n",
       "       '2014-10-25 16:09:41.27', '2014-10-25 16:09:57.36',\n",
       "       '2014-10-25 16:10:13.45', '2014-10-25 16:10:29.55',\n",
       "       '2014-10-25 16:10:45.64', '2014-10-25 16:11:01.74',\n",
       "       '2014-10-25 16:11:17.83', '2014-10-25 16:11:33.92',\n",
       "       '2014-10-25 16:11:50.02', '2014-10-25 16:12:06.11',\n",
       "       '2014-10-25 16:12:22.20', '2014-10-25 16:12:38.30',\n",
       "       '2014-10-25 16:12:54.39', '2014-10-25 16:13:10.49',\n",
       "       '2014-10-25 16:13:26.58', '2014-10-25 16:13:42.67',\n",
       "       '2014-10-25 16:13:58.77', '2014-10-25 16:14:14.86',\n",
       "       '2014-10-25 16:14:30.95', '2014-10-25 16:14:47.05',\n",
       "       '2014-10-25 16:15:03.14', '2014-10-25 16:15:19.24',\n",
       "       '2014-10-25 16:15:35.33', '2014-10-25 16:15:51.42',\n",
       "       '2014-10-25 16:16:07.52', '2014-10-25 16:16:23.61',\n",
       "       '2014-10-25 16:16:39.70', '2014-10-25 16:16:55.80',\n",
       "       '2014-10-25 16:17:11.89', '2014-10-25 16:17:27.99',\n",
       "       '2014-10-25 16:17:44.08', '2014-10-25 16:18:00.17',\n",
       "       '2014-10-25 16:18:16.27', '2014-10-25 16:18:32.36',\n",
       "       '2014-10-25 16:18:48.45', '2014-10-25 16:19:04.55',\n",
       "       '2014-10-25 16:19:20.64', '2014-10-25 16:19:36.74',\n",
       "       '2014-10-25 16:19:52.83', '2014-10-25 16:20:08.92',\n",
       "       '2014-10-25 16:20:25.02', '2014-10-25 16:20:41.11',\n",
       "       '2014-10-25 16:20:57.20', '2014-10-25 16:21:13.30',\n",
       "       '2014-10-25 16:21:29.39', '2014-10-25 16:21:45.48',\n",
       "       '2014-10-25 16:22:01.58', '2014-10-25 16:22:17.67',\n",
       "       '2014-10-25 16:22:33.77', '2014-10-25 16:22:49.86',\n",
       "       '2014-10-25 16:23:05.95', '2014-10-25 16:23:22.05',\n",
       "       '2014-10-25 16:23:38.14', '2014-10-25 16:23:54.24',\n",
       "       '2014-10-25 16:24:10.33', '2014-10-25 16:24:26.42',\n",
       "       '2014-10-25 16:24:42.52', '2014-10-25 16:24:58.61',\n",
       "       '2014-10-25 16:25:14.70', '2014-10-25 16:25:30.80',\n",
       "       '2014-10-25 16:25:46.89', '2014-10-25 16:26:02.99',\n",
       "       '2014-10-25 16:26:19.08', '2014-10-25 16:26:35.17',\n",
       "       '2014-10-25 16:26:51.27', '2014-10-25 16:27:07.36',\n",
       "       '2014-10-25 16:27:23.45', '2014-10-25 16:27:39.55',\n",
       "       '2014-10-25 16:27:55.64', '2014-10-25 16:28:11.74',\n",
       "       '2014-10-25 16:28:27.83', '2014-10-25 16:28:43.92',\n",
       "       '2014-10-25 16:29:00.02', '2014-10-25 16:29:16.11',\n",
       "       '2014-10-25 16:29:32.20', '2014-10-25 16:29:48.30',\n",
       "       '2014-10-25 16:30:04.39', '2014-10-25 16:30:20.49',\n",
       "       '2014-10-25 16:30:36.58', '2014-10-25 16:30:52.67',\n",
       "       '2014-10-25 16:31:08.77', '2014-10-25 16:31:24.86',\n",
       "       '2014-10-25 16:31:40.95', '2014-10-25 16:31:57.05',\n",
       "       '2014-10-25 16:32:13.14', '2014-10-25 16:32:29.24',\n",
       "       '2014-10-25 16:32:45.33', '2014-10-25 16:33:01.42',\n",
       "       '2014-10-25 16:33:17.52', '2014-10-25 16:33:33.61',\n",
       "       '2014-10-25 16:33:49.70', '2014-10-25 16:34:05.80',\n",
       "       '2014-10-25 16:34:21.89', '2014-10-25 16:34:37.99',\n",
       "       '2014-10-25 16:34:54.08', '2014-10-25 16:35:10.17',\n",
       "       '2014-10-25 16:35:26.27', '2014-10-25 16:35:42.36',\n",
       "       '2014-10-25 16:35:58.45', '2014-10-25 16:36:14.55',\n",
       "       '2014-10-25 16:36:30.64', '2014-10-25 16:36:46.74',\n",
       "       '2014-10-25 16:37:02.83', '2014-10-25 16:37:18.92',\n",
       "       '2014-10-25 16:37:35.02', '2014-10-25 16:37:51.11',\n",
       "       '2014-10-25 16:38:07.20', '2014-10-25 16:38:23.30',\n",
       "       '2014-10-25 16:38:39.39', '2014-10-25 16:38:55.49',\n",
       "       '2014-10-25 16:39:11.58', '2014-10-25 16:39:27.67',\n",
       "       '2014-10-25 16:39:43.77', '2014-10-25 16:39:59.86',\n",
       "       '2014-10-25 16:40:15.95', '2014-10-25 16:40:32.05',\n",
       "       '2014-10-25 16:40:48.14', '2014-10-25 16:41:04.24',\n",
       "       '2014-10-25 16:41:20.33', '2014-10-25 16:41:36.42',\n",
       "       '2014-10-25 16:41:52.52', '2014-10-25 16:42:08.61',\n",
       "       '2014-10-25 16:42:24.70', '2014-10-25 16:42:40.80',\n",
       "       '2014-10-25 16:42:56.89', '2014-10-25 16:43:12.99',\n",
       "       '2014-10-25 16:43:29.08', '2014-10-25 16:43:45.17',\n",
       "       '2014-10-25 16:44:01.27', '2014-10-25 16:44:17.36',\n",
       "       '2014-10-25 16:44:33.45', '2014-10-25 16:44:49.55',\n",
       "       '2014-10-25 16:45:05.64', '2014-10-25 16:45:21.74',\n",
       "       '2014-10-25 16:45:37.83', '2014-10-25 16:45:53.92',\n",
       "       '2014-10-25 16:46:10.02', '2014-10-25 16:46:26.11',\n",
       "       '2014-10-25 16:46:42.20', '2014-10-25 16:46:58.30',\n",
       "       '2014-10-25 16:47:14.39', '2014-10-25 16:47:30.49',\n",
       "       '2014-10-25 16:47:46.58', '2014-10-25 16:48:02.67',\n",
       "       '2014-10-25 16:48:18.77', '2014-10-25 16:48:34.86',\n",
       "       '2014-10-25 16:48:50.95', '2014-10-25 16:49:07.05',\n",
       "       '2014-10-25 16:49:23.14', '2014-10-25 16:49:39.24',\n",
       "       '2014-10-25 16:49:55.33', '2014-10-25 16:50:11.42',\n",
       "       '2014-10-25 16:50:27.52', '2014-10-25 16:50:43.61',\n",
       "       '2014-10-25 16:50:59.70', '2014-10-25 16:51:15.80',\n",
       "       '2014-10-25 16:51:31.89', '2014-10-25 16:51:47.99',\n",
       "       '2014-10-25 16:52:04.08', '2014-10-25 16:52:20.17',\n",
       "       '2014-10-25 16:52:36.27', '2014-10-25 16:52:52.36',\n",
       "       '2014-10-25 16:53:08.45', '2014-10-25 16:53:24.55',\n",
       "       '2014-10-25 16:53:40.64', '2014-10-25 16:53:56.74',\n",
       "       '2014-10-25 16:54:12.83', '2014-10-25 16:54:28.92',\n",
       "       '2014-10-25 16:54:45.02', '2014-10-25 16:55:01.11',\n",
       "       '2014-10-25 16:55:17.20', '2014-10-25 16:55:33.30',\n",
       "       '2014-10-25 16:55:49.39', '2014-10-25 16:56:05.49',\n",
       "       '2014-10-25 16:56:21.58', '2014-10-25 16:56:37.67',\n",
       "       '2014-10-25 16:56:53.77', '2014-10-25 16:57:09.86',\n",
       "       '2014-10-25 16:57:25.95', '2014-10-25 16:57:42.05',\n",
       "       '2014-10-25 16:57:58.14', '2014-10-25 16:58:14.24',\n",
       "       '2014-10-25 16:58:30.33', '2014-10-25 16:58:46.42',\n",
       "       '2014-10-25 16:59:02.52', '2014-10-25 16:59:18.61',\n",
       "       '2014-10-25 16:59:34.70', '2014-10-25 16:59:50.80',\n",
       "       '2014-10-25 17:00:06.89', '2014-10-25 17:00:22.99',\n",
       "       '2014-10-25 17:00:39.08', '2014-10-25 17:00:55.17',\n",
       "       '2014-10-25 17:01:11.27', '2014-10-25 17:01:27.36',\n",
       "       '2014-10-25 17:01:43.45', '2014-10-25 17:01:59.55',\n",
       "       '2014-10-25 17:02:15.64', '2014-10-25 17:02:31.74',\n",
       "       '2014-10-25 17:02:47.83', '2014-10-25 17:03:03.92',\n",
       "       '2014-10-25 17:03:20.02', '2014-10-25 17:03:36.11',\n",
       "       '2014-10-25 17:03:52.20', '2014-10-25 17:04:08.30',\n",
       "       '2014-10-25 17:04:24.39', '2014-10-25 17:04:40.49',\n",
       "       '2014-10-25 17:04:56.58', '2014-10-25 17:05:12.67',\n",
       "       '2014-10-25 17:05:28.77', '2014-10-25 17:05:44.86',\n",
       "       '2014-10-25 17:06:00.95', '2014-10-25 17:06:17.05',\n",
       "       '2014-10-25 17:06:33.14', '2014-10-25 17:06:49.24',\n",
       "       '2014-10-25 17:07:05.33', '2014-10-25 17:07:21.42',\n",
       "       '2014-10-25 17:07:37.52', '2014-10-25 17:07:53.61',\n",
       "       '2014-10-25 17:08:09.70', '2014-10-25 17:08:25.80',\n",
       "       '2014-10-25 17:08:41.89', '2014-10-25 17:08:57.99',\n",
       "       '2014-10-25 17:09:14.08', '2014-10-25 17:09:30.17',\n",
       "       '2014-10-25 17:09:46.27', '2014-10-25 17:10:02.36',\n",
       "       '2014-10-25 17:10:18.45', '2014-10-25 17:10:34.55',\n",
       "       '2014-10-25 17:10:50.64', '2014-10-25 17:11:06.74',\n",
       "       '2014-10-25 17:11:22.83', '2014-10-25 17:11:38.92',\n",
       "       '2014-10-25 17:11:55.02', '2014-10-25 17:12:11.11',\n",
       "       '2014-10-25 17:12:27.20', '2014-10-25 17:12:43.30',\n",
       "       '2014-10-25 17:12:59.39', '2014-10-25 17:13:15.49',\n",
       "       '2014-10-25 17:13:31.58', '2014-10-25 17:13:47.67',\n",
       "       '2014-10-25 17:14:03.77', '2014-10-25 17:14:19.86',\n",
       "       '2014-10-25 17:14:35.95', '2014-10-25 17:14:52.05',\n",
       "       '2014-10-25 17:15:08.14', '2014-10-25 17:15:24.24',\n",
       "       '2014-10-25 17:15:40.33', '2014-10-25 17:15:56.42',\n",
       "       '2014-10-25 17:16:12.52', '2014-10-25 17:16:28.61',\n",
       "       '2014-10-25 17:16:44.70', '2014-10-25 17:17:00.80',\n",
       "       '2014-10-25 17:17:16.89', '2014-10-25 17:17:32.99',\n",
       "       '2014-10-25 17:17:49.08', '2014-10-25 17:18:05.17',\n",
       "       '2014-10-25 17:18:21.27', '2014-10-25 17:18:37.36',\n",
       "       '2014-10-25 17:18:53.45', '2014-10-25 17:19:09.55',\n",
       "       '2014-10-25 17:19:25.64', '2014-10-25 17:19:41.74',\n",
       "       '2014-10-25 17:19:57.83', '2014-10-25 17:20:13.92',\n",
       "       '2014-10-25 17:20:30.02', '2014-10-25 17:20:46.11',\n",
       "       '2014-10-25 17:21:02.20', '2014-10-25 17:21:18.30',\n",
       "       '2014-10-25 17:21:34.39', '2014-10-25 17:21:50.49',\n",
       "       '2014-10-25 17:22:06.58', '2014-10-25 17:22:22.67',\n",
       "       '2014-10-25 17:22:38.77', '2014-10-25 17:22:54.86',\n",
       "       '2014-10-25 17:23:10.95', '2014-10-25 17:23:27.05',\n",
       "       '2014-10-25 17:23:43.14', '2014-10-25 17:23:59.24',\n",
       "       '2014-10-25 17:24:15.33', '2014-10-25 17:24:31.42',\n",
       "       '2014-10-25 17:24:47.52', '2014-10-25 17:25:03.61',\n",
       "       '2014-10-25 17:25:19.70', '2014-10-25 17:25:35.80',\n",
       "       '2014-10-25 17:25:51.89', '2014-10-25 17:26:07.99',\n",
       "       '2014-10-25 17:26:24.08', '2014-10-25 17:26:40.17',\n",
       "       '2014-10-25 17:26:56.27', '2014-10-25 17:27:12.36',\n",
       "       '2014-10-25 17:27:28.45', '2014-10-25 17:27:44.55',\n",
       "       '2014-10-25 17:28:00.64', '2014-10-25 17:28:16.74',\n",
       "       '2014-10-25 17:28:32.83', '2014-10-25 17:28:48.92',\n",
       "       '2014-10-25 17:29:05.02', '2014-10-25 17:29:21.11',\n",
       "       '2014-10-25 17:29:37.20', '2014-10-25 17:29:53.30',\n",
       "       '2014-10-25 17:30:09.39', '2014-10-25 17:30:25.48',\n",
       "       '2014-10-25 17:30:41.58', '2014-10-25 17:30:57.67',\n",
       "       '2014-10-25 17:31:13.77', '2014-10-25 17:31:29.86',\n",
       "       '2014-10-25 17:31:45.95', '2014-10-25 17:32:02.05',\n",
       "       '2014-10-25 17:32:18.14', '2014-10-25 17:32:34.24',\n",
       "       '2014-10-25 17:32:50.33', '2014-10-25 17:33:06.42',\n",
       "       '2014-10-25 17:33:22.52', '2014-10-25 17:33:38.61',\n",
       "       '2014-10-25 17:33:54.70', '2014-10-25 17:34:10.80',\n",
       "       '2014-10-25 17:34:26.89', '2014-10-25 17:34:42.99',\n",
       "       '2014-10-25 17:34:59.08', '2014-10-25 17:35:15.17',\n",
       "       '2014-10-25 17:35:31.27', '2014-10-25 17:35:47.36',\n",
       "       '2014-10-25 17:36:03.45', '2014-10-25 17:36:19.55',\n",
       "       '2014-10-25 17:36:35.64', '2014-10-25 17:36:51.74',\n",
       "       '2014-10-25 17:37:07.83', '2014-10-25 17:37:23.92',\n",
       "       '2014-10-25 17:37:40.02', '2014-10-25 17:37:56.11',\n",
       "       '2014-10-25 17:38:12.20', '2014-10-25 17:38:28.30',\n",
       "       '2014-10-25 17:38:44.39', '2014-10-25 17:39:00.49',\n",
       "       '2014-10-25 17:39:16.58', '2014-10-25 17:39:32.67',\n",
       "       '2014-10-25 17:39:48.77', '2014-10-25 17:40:04.86',\n",
       "       '2014-10-25 17:40:20.95', '2014-10-25 17:40:37.05',\n",
       "       '2014-10-25 17:40:53.14', '2014-10-25 17:41:09.24',\n",
       "       '2014-10-25 17:41:25.33', '2014-10-25 17:41:41.42',\n",
       "       '2014-10-25 17:41:57.52', '2014-10-25 17:42:13.61',\n",
       "       '2014-10-25 17:42:29.70', '2014-10-25 17:42:45.80',\n",
       "       '2014-10-25 17:43:01.89', '2014-10-25 17:43:17.99',\n",
       "       '2014-10-25 17:43:34.08', '2014-10-25 17:43:50.17',\n",
       "       '2014-10-25 17:44:06.27', '2014-10-25 17:44:22.36',\n",
       "       '2014-10-25 17:44:38.45', '2014-10-25 17:44:54.55',\n",
       "       '2014-10-25 17:45:10.64', '2014-10-25 17:45:26.74',\n",
       "       '2014-10-25 17:45:42.83', '2014-10-25 17:45:58.92',\n",
       "       '2014-10-25 17:46:15.02', '2014-10-25 17:46:31.11',\n",
       "       '2014-10-25 17:46:47.20', '2014-10-25 17:47:03.30',\n",
       "       '2014-10-25 17:47:19.39', '2014-10-25 17:47:35.49',\n",
       "       '2014-10-25 17:47:51.58', '2014-10-25 17:48:07.67',\n",
       "       '2014-10-25 17:48:23.77', '2014-10-25 17:48:39.86',\n",
       "       '2014-10-25 17:48:55.95', '2014-10-25 17:49:12.05',\n",
       "       '2014-10-25 17:49:28.14', '2014-10-25 17:49:44.24',\n",
       "       '2014-10-25 17:50:00.33', '2014-10-25 17:50:16.42',\n",
       "       '2014-10-25 17:50:32.52', '2014-10-25 17:50:48.61',\n",
       "       '2014-10-25 17:51:04.70', '2014-10-25 17:51:20.80',\n",
       "       '2014-10-25 17:51:36.89', '2014-10-25 17:51:52.99',\n",
       "       '2014-10-25 17:52:09.08', '2014-10-25 17:52:25.17',\n",
       "       '2014-10-25 17:52:41.27', '2014-10-25 17:52:57.36',\n",
       "       '2014-10-25 17:53:13.45', '2014-10-25 17:53:29.55',\n",
       "       '2014-10-25 17:53:45.64', '2014-10-25 17:54:01.74',\n",
       "       '2014-10-25 17:54:17.83', '2014-10-25 17:54:33.92',\n",
       "       '2014-10-25 17:54:50.02', '2014-10-25 17:55:06.11',\n",
       "       '2014-10-25 17:55:22.20', '2014-10-25 17:55:38.30',\n",
       "       '2014-10-25 17:55:54.39', '2014-10-25 17:56:10.49',\n",
       "       '2014-10-25 17:56:26.58', '2014-10-25 17:56:42.67',\n",
       "       '2014-10-25 17:56:58.77', '2014-10-25 17:57:14.86',\n",
       "       '2014-10-25 17:57:30.95', '2014-10-25 17:57:47.05',\n",
       "       '2014-10-25 17:58:03.14', '2014-10-25 17:58:19.24',\n",
       "       '2014-10-25 17:58:35.33', '2014-10-25 17:58:51.42',\n",
       "       '2014-10-25 17:59:07.52', '2014-10-25 17:59:23.61',\n",
       "       '2014-10-25 17:59:39.70', '2014-10-25 17:59:55.80',\n",
       "       '2014-10-25 18:00:11.89', '2014-10-25 18:00:27.99',\n",
       "       '2014-10-25 18:00:44.08'], dtype='<U22')"
      ]
     },
     "execution_count": 92,
     "metadata": {},
     "output_type": "execute_result"
    }
   ],
   "source": [
    "sji_dict['time_2832']"
   ]
  },
  {
   "cell_type": "code",
   "execution_count": 91,
   "metadata": {},
   "outputs": [],
   "source": [
    "inds = np.where(np.array(sji_dict['time_2832']) == '-- ::.')\n",
    "sji_dict['sji_2832'] = np.delete(sji_dict['sji_2832'],inds,axis=-1)\n",
    "sji_dict['time_2832'] = np.delete(sji_dict['time_2832'],inds)\n",
    "sji_dict['xcen_2832'] = np.delete(sji_dict['xcen_2832'],inds,axis=-1)\n",
    "sji_dict['ycen_2832'] = np.delete(sji_dict['ycen_2832'],inds,axis=-1)\n",
    "sji_dict['SLTPX1IX_2832'] = np.delete(sji_dict['SLTPX1IX_2832'],inds,axis=-1)\n",
    "sji_dict['lcslit_2832'] = np.delete(sji_dict['lcslit_2832'],inds,axis=-1)\n",
    "\n"
   ]
  },
  {
   "cell_type": "code",
   "execution_count": 93,
   "metadata": {},
   "outputs": [
    {
     "data": {
      "text/plain": [
       "(387, 365, 677)"
      ]
     },
     "execution_count": 93,
     "metadata": {},
     "output_type": "execute_result"
    }
   ],
   "source": [
    "### SHAPE AFTER REMOVING INDICES\n",
    "sji_dict['sji_2832'].shape"
   ]
  },
  {
   "cell_type": "markdown",
   "metadata": {},
   "source": [
    "***Now turn these into a datetime object***"
   ]
  },
  {
   "cell_type": "code",
   "execution_count": 96,
   "metadata": {},
   "outputs": [],
   "source": [
    "datetime_2832 = pd.to_datetime(sji_dict['time_2832'])"
   ]
  },
  {
   "cell_type": "markdown",
   "metadata": {},
   "source": [
    "***Now search for some specific times***"
   ]
  },
  {
   "cell_type": "code",
   "execution_count": 116,
   "metadata": {},
   "outputs": [
    {
     "name": "stdout",
     "output_type": "stream",
     "text": [
      "2014-10-25 16:15:03.140000\n",
      "2014-10-25 17:29:53.300000\n",
      "\n",
      "282\n",
      "561\n",
      "\n",
      "2014-10-25 16:15:03.140000\n",
      "2014-10-25 17:29:53.300000\n"
     ]
    }
   ],
   "source": [
    "t1 = '2014-10-25 16:15:00.00'\n",
    "t2 = '2014-10-25 17:30:00.00'\n",
    "\n",
    "## Where are the times closest to the requested times? This uses a code called \n",
    "## utils, that is in the github repo. Make sure in the import modules section that you \n",
    "## update the path. That is, where you have put the file on your computer. \n",
    "time_s_near = utils.nearest(datetime_2832,pd.to_datetime(t1))\n",
    "time_f_near = utils.nearest(datetime_2832,pd.to_datetime(t2))\n",
    "\n",
    "## These times are the closest values to the requested time, they are not the exact requested times\n",
    "print(time_s_near)\n",
    "print(time_f_near)\n",
    "\n",
    "## We want to know what indices those are in the dateobs part of the dictionary.\n",
    "## the [0][0] is to extract the number itself, otherwise it is inside an array. \n",
    "## check what happens if you comment out the [0][0]\n",
    "tind_s = np.where(datetime_2832 == time_s_near)[0][0]\n",
    "tind_f = np.where(datetime_2832 == time_f_near)[0][0]\n",
    "\n",
    "print()\n",
    "print(tind_s)\n",
    "print(tind_f)\n",
    "\n",
    "## now lets confirm they are correct\n",
    "print()\n",
    "print(datetime_2832[tind_s])\n",
    "print(datetime_2832[tind_f])"
   ]
  },
  {
   "cell_type": "markdown",
   "metadata": {},
   "source": [
    "***We can put all this together***"
   ]
  },
  {
   "cell_type": "code",
   "execution_count": 118,
   "metadata": {},
   "outputs": [],
   "source": [
    "tind_s = np.where(datetime_2832 == utils.nearest(datetime_2832,pd.to_datetime(t1)) )[0][0]\n",
    "tind_f = np.where(datetime_2832 == utils.nearest(datetime_2832,pd.to_datetime(t2)) )[0][0]"
   ]
  },
  {
   "cell_type": "markdown",
   "metadata": {},
   "source": [
    "***We can even next the datetime command***"
   ]
  },
  {
   "cell_type": "code",
   "execution_count": 119,
   "metadata": {},
   "outputs": [
    {
     "name": "stdout",
     "output_type": "stream",
     "text": [
      "282\n"
     ]
    }
   ],
   "source": [
    "tind_s = np.where(pd.to_datetime(sji_dict['time_2832']) == utils.nearest(datetime_2832,pd.to_datetime(t1)) )[0][0]\n",
    "tind_f = np.where(pd.to_datetime(sji_dict['time_2832']) == utils.nearest(datetime_2832,pd.to_datetime(t2)) )[0][0]"
   ]
  },
  {
   "cell_type": "markdown",
   "metadata": {},
   "source": [
    "***Now, we can use those indices to save only parts of the arrays that lie between t1 and t2***"
   ]
  },
  {
   "cell_type": "code",
   "execution_count": 124,
   "metadata": {},
   "outputs": [
    {
     "data": {
      "text/plain": [
       "array([[[-12.497831 , -12.498056 , -12.497968 , ..., -12.4982395,\n",
       "         -12.498007 , -12.498325 ],\n",
       "        [-12.497831 , -12.498056 , -12.497968 , ..., -12.4982395,\n",
       "         -12.498007 , -12.498325 ],\n",
       "        [-12.497831 , -12.498056 , -12.497968 , ..., -12.4982395,\n",
       "         -12.498007 , -12.498325 ],\n",
       "        ...,\n",
       "        [-12.497831 , -12.498056 , -12.497968 , ..., -12.4982395,\n",
       "         -12.498007 , -12.498325 ],\n",
       "        [-12.497831 , -12.498056 , -12.497968 , ..., -12.4982395,\n",
       "         -12.498007 , -12.498325 ],\n",
       "        [-12.497831 , -12.498056 , -12.497968 , ..., -12.4982395,\n",
       "         -12.498007 , -12.498325 ]],\n",
       "\n",
       "       [[-12.497831 , -12.498056 , -12.497968 , ..., -12.4982395,\n",
       "         -12.498007 , -12.498325 ],\n",
       "        [-12.497831 , -12.498056 , -12.497968 , ..., -12.4982395,\n",
       "         -12.498007 , -12.498325 ],\n",
       "        [-12.497831 , -12.498056 , -12.497968 , ..., -12.4982395,\n",
       "         -12.498007 , -12.498325 ],\n",
       "        ...,\n",
       "        [-12.497831 , -12.498056 , -12.497968 , ..., -12.4982395,\n",
       "         -12.498007 , -12.498325 ],\n",
       "        [-12.497831 , -12.498056 , -12.497968 , ..., -12.4982395,\n",
       "         -12.498007 , -12.498325 ],\n",
       "        [-12.497831 , -12.498056 , -12.497968 , ..., -12.4982395,\n",
       "         -12.498007 , -12.498325 ]],\n",
       "\n",
       "       [[-12.497831 , -12.498056 , -12.497968 , ..., -12.4982395,\n",
       "         -12.498007 , -12.498325 ],\n",
       "        [-12.497831 , -12.498056 , -12.497968 , ..., -12.4982395,\n",
       "         -12.498007 , -12.498325 ],\n",
       "        [-12.497831 , -12.498056 , -12.497968 , ..., -12.4982395,\n",
       "         -12.498007 , -12.498325 ],\n",
       "        ...,\n",
       "        [-12.497831 , -12.498056 , -12.497968 , ..., -12.4982395,\n",
       "         -12.498007 , -12.498325 ],\n",
       "        [-12.497831 , -12.498056 , -12.497968 , ..., -12.4982395,\n",
       "         -12.498007 , -12.498325 ],\n",
       "        [-12.497831 , -12.498056 , -12.497968 , ..., -12.4982395,\n",
       "         -12.498007 , -12.498325 ]],\n",
       "\n",
       "       ...,\n",
       "\n",
       "       [[-12.497831 , -12.498056 , -12.497968 , ..., -12.4982395,\n",
       "         -12.498007 , -12.498325 ],\n",
       "        [-12.497831 , -12.498056 , -12.497968 , ..., -12.4982395,\n",
       "         -12.498007 , -12.498325 ],\n",
       "        [-12.497831 , -12.498056 , -12.497968 , ..., -12.4982395,\n",
       "         -12.498007 , -12.498325 ],\n",
       "        ...,\n",
       "        [-12.497831 , -12.498056 , -12.497968 , ..., -12.4982395,\n",
       "         -12.498007 , -12.498325 ],\n",
       "        [-12.497831 , -12.498056 , -12.497968 , ..., -12.4982395,\n",
       "         -12.498007 , -12.498325 ],\n",
       "        [-12.497831 , -12.498056 , -12.497968 , ..., -12.4982395,\n",
       "         -12.498007 , -12.498325 ]],\n",
       "\n",
       "       [[-12.497831 , -12.498056 , -12.497968 , ..., -12.4982395,\n",
       "         -12.498007 , -12.498325 ],\n",
       "        [-12.497831 , -12.498056 , -12.497968 , ..., -12.4982395,\n",
       "         -12.498007 , -12.498325 ],\n",
       "        [-12.497831 , -12.498056 , -12.497968 , ..., -12.4982395,\n",
       "         -12.498007 , -12.498325 ],\n",
       "        ...,\n",
       "        [-12.497831 , -12.498056 , -12.497968 , ..., -12.4982395,\n",
       "         -12.498007 , -12.498325 ],\n",
       "        [-12.497831 , -12.498056 , -12.497968 , ..., -12.4982395,\n",
       "         -12.498007 , -12.498325 ],\n",
       "        [-12.497831 , -12.498056 , -12.497968 , ..., -12.4982395,\n",
       "         -12.498007 , -12.498325 ]],\n",
       "\n",
       "       [[-12.497831 , -12.498056 , -12.497968 , ..., -12.4982395,\n",
       "         -12.498007 , -12.498325 ],\n",
       "        [-12.497831 , -12.498056 , -12.497968 , ..., -12.4982395,\n",
       "         -12.498007 , -12.498325 ],\n",
       "        [-12.497831 , -12.498056 , -12.497968 , ..., -12.4982395,\n",
       "         -12.498007 , -12.498325 ],\n",
       "        ...,\n",
       "        [-12.497831 , -12.498056 , -12.497968 , ..., -12.4982395,\n",
       "         -12.498007 , -12.498325 ],\n",
       "        [-12.497831 , -12.498056 , -12.497968 , ..., -12.4982395,\n",
       "         -12.498007 , -12.498325 ],\n",
       "        [-12.497831 , -12.498056 , -12.497968 , ..., -12.4982395,\n",
       "         -12.498007 , -12.498325 ]]], dtype=float32)"
      ]
     },
     "execution_count": 124,
     "metadata": {},
     "output_type": "execute_result"
    }
   ],
   "source": [
    "sji_dict['sji_2832'][:,:,tind_s:tind_f]"
   ]
  },
  {
   "cell_type": "code",
   "execution_count": 125,
   "metadata": {},
   "outputs": [],
   "source": [
    "sji_dict_sel = {\n",
    "            'sji_2832':sji_dict['sji_2832'][:,:,tind_s:tind_f], \n",
    "            'xcen_2832':sji_dict['xcen_2832'][tind_s:tind_f],\n",
    "            'ycen_2832':sji_dict['ycen_2832'][tind_s:tind_f],\n",
    "            'SLTPX1IX_2832':sji_dict['SLTPX1IX_2832'][tind_s:tind_f],\n",
    "            'hdr_2832_ext0':hdr_2832_ext0,\n",
    "            'time_2832':sji_dict['time_2832'][tind_s:tind_f],\n",
    "            'readme':'SJI data has been exposure corrected'}\n",
    "file_sji = 'IRIS_SJI_2014_Oct_25_exptimecorr_selected.pkl'\n",
    "with open(file_sji, 'wb') as output:  # Overwrites any existing file.\n",
    "    pickle.dump(sji_dict, output, pickle.HIGHEST_PROTOCOL)"
   ]
  },
  {
   "cell_type": "code",
   "execution_count": 126,
   "metadata": {},
   "outputs": [
    {
     "data": {
      "text/plain": [
       "(387, 365, 279)"
      ]
     },
     "execution_count": 126,
     "metadata": {},
     "output_type": "execute_result"
    }
   ],
   "source": [
    "sji_dict_sel['sji_2832'].shape"
   ]
  },
  {
   "cell_type": "code",
   "execution_count": 127,
   "metadata": {},
   "outputs": [
    {
     "data": {
      "text/plain": [
       "array(['2014-10-25 16:15:03.14', '2014-10-25 16:15:19.24',\n",
       "       '2014-10-25 16:15:35.33', '2014-10-25 16:15:51.42',\n",
       "       '2014-10-25 16:16:07.52', '2014-10-25 16:16:23.61',\n",
       "       '2014-10-25 16:16:39.70', '2014-10-25 16:16:55.80',\n",
       "       '2014-10-25 16:17:11.89', '2014-10-25 16:17:27.99',\n",
       "       '2014-10-25 16:17:44.08', '2014-10-25 16:18:00.17',\n",
       "       '2014-10-25 16:18:16.27', '2014-10-25 16:18:32.36',\n",
       "       '2014-10-25 16:18:48.45', '2014-10-25 16:19:04.55',\n",
       "       '2014-10-25 16:19:20.64', '2014-10-25 16:19:36.74',\n",
       "       '2014-10-25 16:19:52.83', '2014-10-25 16:20:08.92',\n",
       "       '2014-10-25 16:20:25.02', '2014-10-25 16:20:41.11',\n",
       "       '2014-10-25 16:20:57.20', '2014-10-25 16:21:13.30',\n",
       "       '2014-10-25 16:21:29.39', '2014-10-25 16:21:45.48',\n",
       "       '2014-10-25 16:22:01.58', '2014-10-25 16:22:17.67',\n",
       "       '2014-10-25 16:22:33.77', '2014-10-25 16:22:49.86',\n",
       "       '2014-10-25 16:23:05.95', '2014-10-25 16:23:22.05',\n",
       "       '2014-10-25 16:23:38.14', '2014-10-25 16:23:54.24',\n",
       "       '2014-10-25 16:24:10.33', '2014-10-25 16:24:26.42',\n",
       "       '2014-10-25 16:24:42.52', '2014-10-25 16:24:58.61',\n",
       "       '2014-10-25 16:25:14.70', '2014-10-25 16:25:30.80',\n",
       "       '2014-10-25 16:25:46.89', '2014-10-25 16:26:02.99',\n",
       "       '2014-10-25 16:26:19.08', '2014-10-25 16:26:35.17',\n",
       "       '2014-10-25 16:26:51.27', '2014-10-25 16:27:07.36',\n",
       "       '2014-10-25 16:27:23.45', '2014-10-25 16:27:39.55',\n",
       "       '2014-10-25 16:27:55.64', '2014-10-25 16:28:11.74',\n",
       "       '2014-10-25 16:28:27.83', '2014-10-25 16:28:43.92',\n",
       "       '2014-10-25 16:29:00.02', '2014-10-25 16:29:16.11',\n",
       "       '2014-10-25 16:29:32.20', '2014-10-25 16:29:48.30',\n",
       "       '2014-10-25 16:30:04.39', '2014-10-25 16:30:20.49',\n",
       "       '2014-10-25 16:30:36.58', '2014-10-25 16:30:52.67',\n",
       "       '2014-10-25 16:31:08.77', '2014-10-25 16:31:24.86',\n",
       "       '2014-10-25 16:31:40.95', '2014-10-25 16:31:57.05',\n",
       "       '2014-10-25 16:32:13.14', '2014-10-25 16:32:29.24',\n",
       "       '2014-10-25 16:32:45.33', '2014-10-25 16:33:01.42',\n",
       "       '2014-10-25 16:33:17.52', '2014-10-25 16:33:33.61',\n",
       "       '2014-10-25 16:33:49.70', '2014-10-25 16:34:05.80',\n",
       "       '2014-10-25 16:34:21.89', '2014-10-25 16:34:37.99',\n",
       "       '2014-10-25 16:34:54.08', '2014-10-25 16:35:10.17',\n",
       "       '2014-10-25 16:35:26.27', '2014-10-25 16:35:42.36',\n",
       "       '2014-10-25 16:35:58.45', '2014-10-25 16:36:14.55',\n",
       "       '2014-10-25 16:36:30.64', '2014-10-25 16:36:46.74',\n",
       "       '2014-10-25 16:37:02.83', '2014-10-25 16:37:18.92',\n",
       "       '2014-10-25 16:37:35.02', '2014-10-25 16:37:51.11',\n",
       "       '2014-10-25 16:38:07.20', '2014-10-25 16:38:23.30',\n",
       "       '2014-10-25 16:38:39.39', '2014-10-25 16:38:55.49',\n",
       "       '2014-10-25 16:39:11.58', '2014-10-25 16:39:27.67',\n",
       "       '2014-10-25 16:39:43.77', '2014-10-25 16:39:59.86',\n",
       "       '2014-10-25 16:40:15.95', '2014-10-25 16:40:32.05',\n",
       "       '2014-10-25 16:40:48.14', '2014-10-25 16:41:04.24',\n",
       "       '2014-10-25 16:41:20.33', '2014-10-25 16:41:36.42',\n",
       "       '2014-10-25 16:41:52.52', '2014-10-25 16:42:08.61',\n",
       "       '2014-10-25 16:42:24.70', '2014-10-25 16:42:40.80',\n",
       "       '2014-10-25 16:42:56.89', '2014-10-25 16:43:12.99',\n",
       "       '2014-10-25 16:43:29.08', '2014-10-25 16:43:45.17',\n",
       "       '2014-10-25 16:44:01.27', '2014-10-25 16:44:17.36',\n",
       "       '2014-10-25 16:44:33.45', '2014-10-25 16:44:49.55',\n",
       "       '2014-10-25 16:45:05.64', '2014-10-25 16:45:21.74',\n",
       "       '2014-10-25 16:45:37.83', '2014-10-25 16:45:53.92',\n",
       "       '2014-10-25 16:46:10.02', '2014-10-25 16:46:26.11',\n",
       "       '2014-10-25 16:46:42.20', '2014-10-25 16:46:58.30',\n",
       "       '2014-10-25 16:47:14.39', '2014-10-25 16:47:30.49',\n",
       "       '2014-10-25 16:47:46.58', '2014-10-25 16:48:02.67',\n",
       "       '2014-10-25 16:48:18.77', '2014-10-25 16:48:34.86',\n",
       "       '2014-10-25 16:48:50.95', '2014-10-25 16:49:07.05',\n",
       "       '2014-10-25 16:49:23.14', '2014-10-25 16:49:39.24',\n",
       "       '2014-10-25 16:49:55.33', '2014-10-25 16:50:11.42',\n",
       "       '2014-10-25 16:50:27.52', '2014-10-25 16:50:43.61',\n",
       "       '2014-10-25 16:50:59.70', '2014-10-25 16:51:15.80',\n",
       "       '2014-10-25 16:51:31.89', '2014-10-25 16:51:47.99',\n",
       "       '2014-10-25 16:52:04.08', '2014-10-25 16:52:20.17',\n",
       "       '2014-10-25 16:52:36.27', '2014-10-25 16:52:52.36',\n",
       "       '2014-10-25 16:53:08.45', '2014-10-25 16:53:24.55',\n",
       "       '2014-10-25 16:53:40.64', '2014-10-25 16:53:56.74',\n",
       "       '2014-10-25 16:54:12.83', '2014-10-25 16:54:28.92',\n",
       "       '2014-10-25 16:54:45.02', '2014-10-25 16:55:01.11',\n",
       "       '2014-10-25 16:55:17.20', '2014-10-25 16:55:33.30',\n",
       "       '2014-10-25 16:55:49.39', '2014-10-25 16:56:05.49',\n",
       "       '2014-10-25 16:56:21.58', '2014-10-25 16:56:37.67',\n",
       "       '2014-10-25 16:56:53.77', '2014-10-25 16:57:09.86',\n",
       "       '2014-10-25 16:57:25.95', '2014-10-25 16:57:42.05',\n",
       "       '2014-10-25 16:57:58.14', '2014-10-25 16:58:14.24',\n",
       "       '2014-10-25 16:58:30.33', '2014-10-25 16:58:46.42',\n",
       "       '2014-10-25 16:59:02.52', '2014-10-25 16:59:18.61',\n",
       "       '2014-10-25 16:59:34.70', '2014-10-25 16:59:50.80',\n",
       "       '2014-10-25 17:00:06.89', '2014-10-25 17:00:22.99',\n",
       "       '2014-10-25 17:00:39.08', '2014-10-25 17:00:55.17',\n",
       "       '2014-10-25 17:01:11.27', '2014-10-25 17:01:27.36',\n",
       "       '2014-10-25 17:01:43.45', '2014-10-25 17:01:59.55',\n",
       "       '2014-10-25 17:02:15.64', '2014-10-25 17:02:31.74',\n",
       "       '2014-10-25 17:02:47.83', '2014-10-25 17:03:03.92',\n",
       "       '2014-10-25 17:03:20.02', '2014-10-25 17:03:36.11',\n",
       "       '2014-10-25 17:03:52.20', '2014-10-25 17:04:08.30',\n",
       "       '2014-10-25 17:04:24.39', '2014-10-25 17:04:40.49',\n",
       "       '2014-10-25 17:04:56.58', '2014-10-25 17:05:12.67',\n",
       "       '2014-10-25 17:05:28.77', '2014-10-25 17:05:44.86',\n",
       "       '2014-10-25 17:06:00.95', '2014-10-25 17:06:17.05',\n",
       "       '2014-10-25 17:06:33.14', '2014-10-25 17:06:49.24',\n",
       "       '2014-10-25 17:07:05.33', '2014-10-25 17:07:21.42',\n",
       "       '2014-10-25 17:07:37.52', '2014-10-25 17:07:53.61',\n",
       "       '2014-10-25 17:08:09.70', '2014-10-25 17:08:25.80',\n",
       "       '2014-10-25 17:08:41.89', '2014-10-25 17:08:57.99',\n",
       "       '2014-10-25 17:09:14.08', '2014-10-25 17:09:30.17',\n",
       "       '2014-10-25 17:09:46.27', '2014-10-25 17:10:02.36',\n",
       "       '2014-10-25 17:10:18.45', '2014-10-25 17:10:34.55',\n",
       "       '2014-10-25 17:10:50.64', '2014-10-25 17:11:06.74',\n",
       "       '2014-10-25 17:11:22.83', '2014-10-25 17:11:38.92',\n",
       "       '2014-10-25 17:11:55.02', '2014-10-25 17:12:11.11',\n",
       "       '2014-10-25 17:12:27.20', '2014-10-25 17:12:43.30',\n",
       "       '2014-10-25 17:12:59.39', '2014-10-25 17:13:15.49',\n",
       "       '2014-10-25 17:13:31.58', '2014-10-25 17:13:47.67',\n",
       "       '2014-10-25 17:14:03.77', '2014-10-25 17:14:19.86',\n",
       "       '2014-10-25 17:14:35.95', '2014-10-25 17:14:52.05',\n",
       "       '2014-10-25 17:15:08.14', '2014-10-25 17:15:24.24',\n",
       "       '2014-10-25 17:15:40.33', '2014-10-25 17:15:56.42',\n",
       "       '2014-10-25 17:16:12.52', '2014-10-25 17:16:28.61',\n",
       "       '2014-10-25 17:16:44.70', '2014-10-25 17:17:00.80',\n",
       "       '2014-10-25 17:17:16.89', '2014-10-25 17:17:32.99',\n",
       "       '2014-10-25 17:17:49.08', '2014-10-25 17:18:05.17',\n",
       "       '2014-10-25 17:18:21.27', '2014-10-25 17:18:37.36',\n",
       "       '2014-10-25 17:18:53.45', '2014-10-25 17:19:09.55',\n",
       "       '2014-10-25 17:19:25.64', '2014-10-25 17:19:41.74',\n",
       "       '2014-10-25 17:19:57.83', '2014-10-25 17:20:13.92',\n",
       "       '2014-10-25 17:20:30.02', '2014-10-25 17:20:46.11',\n",
       "       '2014-10-25 17:21:02.20', '2014-10-25 17:21:18.30',\n",
       "       '2014-10-25 17:21:34.39', '2014-10-25 17:21:50.49',\n",
       "       '2014-10-25 17:22:06.58', '2014-10-25 17:22:22.67',\n",
       "       '2014-10-25 17:22:38.77', '2014-10-25 17:22:54.86',\n",
       "       '2014-10-25 17:23:10.95', '2014-10-25 17:23:27.05',\n",
       "       '2014-10-25 17:23:43.14', '2014-10-25 17:23:59.24',\n",
       "       '2014-10-25 17:24:15.33', '2014-10-25 17:24:31.42',\n",
       "       '2014-10-25 17:24:47.52', '2014-10-25 17:25:03.61',\n",
       "       '2014-10-25 17:25:19.70', '2014-10-25 17:25:35.80',\n",
       "       '2014-10-25 17:25:51.89', '2014-10-25 17:26:07.99',\n",
       "       '2014-10-25 17:26:24.08', '2014-10-25 17:26:40.17',\n",
       "       '2014-10-25 17:26:56.27', '2014-10-25 17:27:12.36',\n",
       "       '2014-10-25 17:27:28.45', '2014-10-25 17:27:44.55',\n",
       "       '2014-10-25 17:28:00.64', '2014-10-25 17:28:16.74',\n",
       "       '2014-10-25 17:28:32.83', '2014-10-25 17:28:48.92',\n",
       "       '2014-10-25 17:29:05.02', '2014-10-25 17:29:21.11',\n",
       "       '2014-10-25 17:29:37.20'], dtype='<U22')"
      ]
     },
     "execution_count": 127,
     "metadata": {},
     "output_type": "execute_result"
    }
   ],
   "source": [
    "sji_dict_sel['time_2832']"
   ]
  },
  {
   "cell_type": "code",
   "execution_count": null,
   "metadata": {},
   "outputs": [],
   "source": []
  }
 ],
 "metadata": {
  "kernelspec": {
   "display_name": "py38_solar_sunpy",
   "language": "python",
   "name": "py38_solar_sunpy"
  },
  "language_info": {
   "codemirror_mode": {
    "name": "ipython",
    "version": 3
   },
   "file_extension": ".py",
   "mimetype": "text/x-python",
   "name": "python",
   "nbconvert_exporter": "python",
   "pygments_lexer": "ipython3",
   "version": "3.8.5"
  }
 },
 "nbformat": 4,
 "nbformat_minor": 4
}
